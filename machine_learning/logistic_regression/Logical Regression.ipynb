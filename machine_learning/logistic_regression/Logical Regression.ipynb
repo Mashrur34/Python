{
 "cells": [
  {
   "cell_type": "code",
   "execution_count": 1,
   "metadata": {},
   "outputs": [],
   "source": [
    "import numpy as np\n",
    "import pandas as pd\n",
    "import matplotlib.pyplot as plt\n",
    "from tqdm import tqdm as tn"
   ]
  },
  {
   "cell_type": "markdown",
   "metadata": {},
   "source": [
    "# 数据清理"
   ]
  },
  {
   "cell_type": "code",
   "execution_count": 2,
   "metadata": {},
   "outputs": [],
   "source": [
    "iris = pd.read_csv('datas/iris_dataset.csv')"
   ]
  },
  {
   "cell_type": "code",
   "execution_count": 3,
   "metadata": {},
   "outputs": [
    {
     "data": {
      "text/html": [
       "<div>\n",
       "<style scoped>\n",
       "    .dataframe tbody tr th:only-of-type {\n",
       "        vertical-align: middle;\n",
       "    }\n",
       "\n",
       "    .dataframe tbody tr th {\n",
       "        vertical-align: top;\n",
       "    }\n",
       "\n",
       "    .dataframe thead th {\n",
       "        text-align: right;\n",
       "    }\n",
       "</style>\n",
       "<table border=\"1\" class=\"dataframe\">\n",
       "  <thead>\n",
       "    <tr style=\"text-align: right;\">\n",
       "      <th></th>\n",
       "      <th>sepal.length</th>\n",
       "      <th>sepal.width</th>\n",
       "      <th>petal.length</th>\n",
       "      <th>petal.width</th>\n",
       "      <th>variety</th>\n",
       "    </tr>\n",
       "  </thead>\n",
       "  <tbody>\n",
       "    <tr>\n",
       "      <th>0</th>\n",
       "      <td>5.1</td>\n",
       "      <td>3.5</td>\n",
       "      <td>1.4</td>\n",
       "      <td>0.2</td>\n",
       "      <td>Setosa</td>\n",
       "    </tr>\n",
       "    <tr>\n",
       "      <th>1</th>\n",
       "      <td>4.9</td>\n",
       "      <td>3.0</td>\n",
       "      <td>1.4</td>\n",
       "      <td>0.2</td>\n",
       "      <td>Setosa</td>\n",
       "    </tr>\n",
       "    <tr>\n",
       "      <th>2</th>\n",
       "      <td>4.7</td>\n",
       "      <td>3.2</td>\n",
       "      <td>1.3</td>\n",
       "      <td>0.2</td>\n",
       "      <td>Setosa</td>\n",
       "    </tr>\n",
       "    <tr>\n",
       "      <th>3</th>\n",
       "      <td>4.6</td>\n",
       "      <td>3.1</td>\n",
       "      <td>1.5</td>\n",
       "      <td>0.2</td>\n",
       "      <td>Setosa</td>\n",
       "    </tr>\n",
       "    <tr>\n",
       "      <th>4</th>\n",
       "      <td>5.0</td>\n",
       "      <td>3.6</td>\n",
       "      <td>1.4</td>\n",
       "      <td>0.2</td>\n",
       "      <td>Setosa</td>\n",
       "    </tr>\n",
       "  </tbody>\n",
       "</table>\n",
       "</div>"
      ],
      "text/plain": [
       "   sepal.length  sepal.width  petal.length  petal.width  variety\n",
       "0           5.1          3.5           1.4          0.2   Setosa\n",
       "1           4.9          3.0           1.4          0.2   Setosa\n",
       "2           4.7          3.2           1.3          0.2   Setosa\n",
       "3           4.6          3.1           1.5          0.2   Setosa\n",
       "4           5.0          3.6           1.4          0.2   Setosa"
      ]
     },
     "execution_count": 3,
     "metadata": {},
     "output_type": "execute_result"
    }
   ],
   "source": [
    "iris.head()"
   ]
  },
  {
   "cell_type": "markdown",
   "metadata": {},
   "source": [
    "# 将自然语言标签转换为计算机语言\n",
    "### l2n stands for labels to numbers\n",
    "\n",
    "<div style='background-color:#78e08f'>\n",
    "    <br>\n",
    "</div>    \n",
    "\n",
    "```py\n",
    "temp_x = iris.loc[:,'sepal.length':'petal.width'].values\n",
    "temp_y = iris.loc[:,'variety']\n",
    "\n",
    "\n",
    "def l2n(dataframe, label_column_name):\n",
    "    \n",
    "    df = dataframe.copy(deep = True)\n",
    "    temp_label = df.loc[:,label_column_name]\n",
    "    #去重\n",
    "    \n",
    "    type_name = temp_label.drop_duplicates(keep = 'first').values\n",
    "    type_num = temp_label.drop_duplicates(keep = 'first').shape[0]\n",
    "    \n",
    "    #生成字典\n",
    "    dic = {x:y for x,y in zip(type_name, range(type_num))}\n",
    "    #使用字典映射一个新的column(dtype = int)\n",
    "    df['F_label'] = df[label_column_name].map(dic)\n",
    "    return df\n",
    "```    "
   ]
  },
  {
   "cell_type": "markdown",
   "metadata": {},
   "source": [
    "# 数据分割\n",
    "\n",
    "```py\n",
    "def split_data(features,labels,test_size):\n",
    "    '''\n",
    "    参数：(features,labels,测试集的大小)\n",
    "    返回值是一个tuple: (train_x, train_y, test_x, test_y)\n",
    "    \n",
    "    '''\n",
    "    #\n",
    "    train_x = np.array([])\n",
    "    train_y = np.array([])\n",
    "    \n",
    "    test_x = np.array([])\n",
    "    test_y = np.array([])\n",
    "    \n",
    "    \n",
    "    train_size = features.shape[0] - test_size\n",
    "    \n",
    "    for _ in range(test_size):\n",
    "        a = np.random.randint(low = 0,high = features.shape[0])\n",
    "        #print('random:' , a)\n",
    "        #print('feature_index:',features.shape[0])\n",
    "        #向测试集添加元素\n",
    "        test_x = np.append(test_x, features[a])\n",
    "        test_y = np.append(test_y, labels[a])\n",
    "        #删除已向测试集添加过的元素\n",
    "        features = np.delete(features, a, 0)\n",
    "        labels = np.delete(labels, a, 0)\n",
    "    \n",
    "    train_x = features\n",
    "    train_y = labels\n",
    "    \n",
    "    print('数据分割完成, 其中训练集: {}, 测试集: {}'.format(train_x.shape[0], test_x.shape[0]))\n",
    "    return (train_x, train_y, test_x.reshape(30, 4), test_y)\n",
    "```   \n",
    "\n",
    "<div style='background-color:#78e08f'>\n",
    "    <br>\n",
    "</div>    "
   ]
  },
  {
   "cell_type": "code",
   "execution_count": 62,
   "metadata": {},
   "outputs": [],
   "source": [
    "# pandas自动化数据清理，封装\n",
    "def data_clean(dataframe, label, test_size):\n",
    "    '''\n",
    "    pandas automatic data cleanning\n",
    "    \n",
    "    dataframe: a pandas dataframe object\n",
    "    label: label column name\n",
    "    test_size: test_size\n",
    "    \n",
    "    transfer String label intro numbers, and \n",
    "    return a tuple ((train_x, train_y, test_x, test_y))\n",
    "    \n",
    "    '''\n",
    "    #数据清理\n",
    "    \n",
    "    df = dataframe.copy(deep = True)\n",
    "    temp_label = df.loc[:,label]\n",
    "    #去重\n",
    "    \n",
    "    type_name = temp_label.drop_duplicates(keep = 'first').values\n",
    "    type_num = temp_label.drop_duplicates(keep = 'first').shape[0]\n",
    "    \n",
    "    #生成字典\n",
    "    dic = {x:y for x,y in zip(type_name, range(type_num))}\n",
    "    #使用字典映射一个新的column(dtype = int)\n",
    "    df['F_label'] = df[label].map(dic)\n",
    "    \n",
    "    \n",
    "    #数据分割\n",
    "    f_col = df.columns.drop(['F_label',label])\n",
    "    features = df.loc[:,f_col].values\n",
    "    labels = df.loc[:,'F_label'].values\n",
    "    \n",
    "    \n",
    "    train_x = np.array([])\n",
    "    train_y = np.array([])\n",
    "    \n",
    "    test_x = np.array([])\n",
    "    test_y = np.array([])\n",
    "    \n",
    "    \n",
    "    train_size = features.shape[0] - test_size\n",
    "    \n",
    "    for _ in range(test_size):\n",
    "        a = np.random.randint(low = 0,high = features.shape[0])\n",
    "        \n",
    "        #向测试集添加元素\n",
    "        test_x = np.append(test_x, features[a])\n",
    "        test_y = np.append(test_y, labels[a])\n",
    "        #删除已向测试集添加过的元素\n",
    "        features = np.delete(features, a, 0)\n",
    "        labels = np.delete(labels, a, 0)\n",
    "    \n",
    "    train_x = features\n",
    "    train_y = labels\n",
    "    \n",
    "    print('数据分割完成, 其中训练集: {}, 测试集: {}'.format(train_y.shape[0], test_y.shape[0]))\n",
    "    return (train_x, train_y.reshape(120,1), test_x.reshape(30, 4), test_y.reshape(30,1))"
   ]
  },
  {
   "cell_type": "code",
   "execution_count": 63,
   "metadata": {},
   "outputs": [
    {
     "name": "stdout",
     "output_type": "stream",
     "text": [
      "数据分割完成, 其中训练集: 120, 测试集: 30\n"
     ]
    }
   ],
   "source": [
    "train_x,train_y,test_x,test_y = data_clean(iris,'variety',30)"
   ]
  },
  {
   "cell_type": "code",
   "execution_count": 64,
   "metadata": {},
   "outputs": [
    {
     "name": "stdout",
     "output_type": "stream",
     "text": [
      "[[5.1 3.5 1.4 0.2]\n",
      " [4.9 3.  1.4 0.2]\n",
      " [4.7 3.2 1.3 0.2]\n",
      " [4.6 3.1 1.5 0.2]\n",
      " [5.4 3.9 1.7 0.4]]\n",
      "[[0]\n",
      " [0]\n",
      " [0]\n",
      " [0]\n",
      " [0]]\n"
     ]
    }
   ],
   "source": [
    "print(train_x[0:5])\n",
    "print(train_y[0:5])"
   ]
  },
  {
   "cell_type": "code",
   "execution_count": 7,
   "metadata": {},
   "outputs": [
    {
     "name": "stdout",
     "output_type": "stream",
     "text": [
      "(120, 4)\n",
      "(120,)\n"
     ]
    }
   ],
   "source": [
    "print(train_x.shape)\n",
    "print(train_y.shape)"
   ]
  },
  {
   "cell_type": "markdown",
   "metadata": {},
   "source": [
    "# 激活函数和损失函数"
   ]
  },
  {
   "cell_type": "code",
   "execution_count": 8,
   "metadata": {},
   "outputs": [],
   "source": [
    "def sigmoid(x):\n",
    "    return 1 / (1 + np.exp(-x))"
   ]
  },
  {
   "cell_type": "code",
   "execution_count": 9,
   "metadata": {},
   "outputs": [],
   "source": [
    "def MSE(prediction, label):\n",
    "    return np.mean((prediction-label)**2)"
   ]
  },
  {
   "cell_type": "code",
   "execution_count": 10,
   "metadata": {},
   "outputs": [],
   "source": [
    "def delta_E(prediction, label):\n",
    "    return 2 * (prediction - label)"
   ]
  },
  {
   "cell_type": "markdown",
   "metadata": {},
   "source": [
    "# 训练模型\n",
    "\n",
    "$ y = x * w + b$"
   ]
  },
  {
   "cell_type": "code",
   "execution_count": 38,
   "metadata": {},
   "outputs": [
    {
     "data": {
      "text/plain": [
       "(120, 1)"
      ]
     },
     "execution_count": 38,
     "metadata": {},
     "output_type": "execute_result"
    }
   ],
   "source": [
    "w = np.random.rand(4,1)\n",
    "b = np.random.random()\n",
    "t = np.dot(train_x,w)\n",
    "t2= t+b\n",
    "t2.shape"
   ]
  },
  {
   "cell_type": "code",
   "execution_count": 77,
   "metadata": {},
   "outputs": [],
   "source": [
    "def train (x , y , w , b , times):\n",
    "    for _ in tn(range(times)):\n",
    "        z = np.dot(x,w) + b\n",
    "        #print(z.shape)\n",
    "        A = sigmoid(z)\n",
    "        delta = delta_E(A,y)\n",
    "        \n",
    "        \n",
    "        w = w - 1 * np.mean(delta)\n",
    "        b = b - 1 * delta\n",
    "    print(MSE(A,y))"
   ]
  },
  {
   "cell_type": "code",
   "execution_count": 78,
   "metadata": {},
   "outputs": [
    {
     "name": "stderr",
     "output_type": "stream",
     "text": [
      "100%|██████████| 100000/100000 [00:04<00:00, 22799.77it/s]"
     ]
    },
    {
     "name": "stdout",
     "output_type": "stream",
     "text": [
      "0.5228910950014451\n"
     ]
    },
    {
     "name": "stderr",
     "output_type": "stream",
     "text": [
      "\n"
     ]
    }
   ],
   "source": [
    "train(train_x,train_y,w,b,100000)"
   ]
  },
  {
   "cell_type": "code",
   "execution_count": null,
   "metadata": {},
   "outputs": [],
   "source": []
  }
 ],
 "metadata": {
  "kernelspec": {
   "display_name": "Python 3",
   "language": "python",
   "name": "python3"
  },
  "language_info": {
   "codemirror_mode": {
    "name": "ipython",
    "version": 3
   },
   "file_extension": ".py",
   "mimetype": "text/x-python",
   "name": "python",
   "nbconvert_exporter": "python",
   "pygments_lexer": "ipython3",
   "version": "3.6.8"
  }
 },
 "nbformat": 4,
 "nbformat_minor": 2
}
