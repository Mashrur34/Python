{
 "cells": [
  {
   "cell_type": "markdown",
   "metadata": {},
   "source": [
    "# TensorFlow的分类器模型构建(监督学习)--归一化\n",
    "使用数据集-> Fashion Mnist"
   ]
  },
  {
   "cell_type": "code",
   "execution_count": 9,
   "metadata": {
    "ExecuteTime": {
     "end_time": "2019-06-27T17:25:32.552826Z",
     "start_time": "2019-06-27T17:25:32.542193Z"
    }
   },
   "outputs": [],
   "source": [
    "import os\n",
    "from tensorflow import keras\n",
    "import tensorflow as tf\n",
    "import sklearn\n",
    "import pandas as pd\n",
    "import numpy as np\n",
    "import matplotlib as mpl\n",
    "import matplotlib.pyplot as plt\n",
    "\n",
    "# 这串代码让图像直接显示在Notebook里而不是单独打开一个窗口\n",
    "%matplotlib inline"
   ]
  },
  {
   "cell_type": "code",
   "execution_count": 18,
   "metadata": {
    "ExecuteTime": {
     "end_time": "2019-06-27T17:38:13.467654Z",
     "start_time": "2019-06-27T17:38:12.767100Z"
    }
   },
   "outputs": [
    {
     "name": "stdout",
     "output_type": "stream",
     "text": [
      "255 0\n"
     ]
    }
   ],
   "source": [
    "fashion_mnist = keras.datasets.fashion_mnist\n",
    "(x_train_all, y_train_all), (x_test, y_test) = fashion_mnist.load_data()\n",
    "\n",
    "# 训练集 验证集\n",
    "x_valid, x_train = x_train_all[:5000], x_train_all[5000:]\n",
    "y_valid, y_train = y_train_all[:5000], y_train_all[5000:]\n",
    "\n",
    "# 归一化前的max和min\n",
    "print(np.max(x_train), np.min(x_train))"
   ]
  },
  {
   "cell_type": "markdown",
   "metadata": {},
   "source": [
    "## 数据归一化\n",
    "### 原理\n",
    "> $x = \\frac{x - u} {std}$  \n",
    "  > 其中u 是均值， std 是方差\n",
    "### sklearn的归一化函数\n",
    "首先用`StandardScaler()`创建一个对象  \n",
    "再调用它的方法`.fit_transorm()`  \n",
    "因为这个函数的参数接受只`[样本数 , 特征]`所以我们要先reshape它  \n",
    "- StandardScaler()类的transform要求如下:  \n",
    "> Reshape your data either using array.reshape(-1, 1) if your data has a single feature or array.reshape(1, -1) if it contains a single sample.  \n",
    "\n",
    "**x_train: [None , 28 , 28] ->[None , 784]**"
   ]
  },
  {
   "cell_type": "code",
   "execution_count": 21,
   "metadata": {
    "ExecuteTime": {
     "end_time": "2019-06-27T17:39:44.580138Z",
     "start_time": "2019-06-27T17:39:43.184819Z"
    }
   },
   "outputs": [
    {
     "name": "stdout",
     "output_type": "stream",
     "text": [
      "2.0231433 -0.8105136\n"
     ]
    }
   ],
   "source": [
    "from sklearn.preprocessing import StandardScaler\n",
    "\n",
    "scaler = StandardScaler()\n",
    "x_train_scaled = scaler.fit_transform(\n",
    "    x_train.astype(np.float32).reshape(-1, 1)).reshape(-1, 28, 28)\n",
    "x_valid_scaled = scaler.transform(\n",
    "    x_valid.astype(np.float32).reshape(-1, 1)).reshape(-1, 28, 28)\n",
    "x_test_scaled = scaler.transform(\n",
    "    x_test.astype(np.float32).reshape(-1, 1)).reshape(-1, 28, 28)\n",
    "\n",
    "# 归一化后的max和min\n",
    "print(np.max(x_train_scaled), np.min(x_train_scaled))"
   ]
  },
  {
   "cell_type": "code",
   "execution_count": 26,
   "metadata": {
    "ExecuteTime": {
     "end_time": "2019-06-27T17:41:37.463598Z",
     "start_time": "2019-06-27T17:41:37.383129Z"
    }
   },
   "outputs": [],
   "source": [
    "model = tf.keras.models.Sequential([\n",
    "    keras.layers.Flatten(input_shape=[28, 28]),\n",
    "    keras.layers.Dense(300, activation=\"relu\"),\n",
    "    keras.layers.Dense(100, activation=\"relu\"),\n",
    "    keras.layers.Dense(50, activation='sigmoid'),\n",
    "    keras.layers.Dense(10, activation=\"softmax\")\n",
    "])"
   ]
  },
  {
   "cell_type": "code",
   "execution_count": 27,
   "metadata": {
    "ExecuteTime": {
     "end_time": "2019-06-27T17:41:38.786139Z",
     "start_time": "2019-06-27T17:41:38.723491Z"
    }
   },
   "outputs": [],
   "source": [
    "model.compile(\n",
    "    loss='sparse_categorical_crossentropy',\n",
    "    optimizer='sgd',\n",
    "    metrics=[\"accuracy\"]\n",
    ")"
   ]
  },
  {
   "cell_type": "code",
   "execution_count": 28,
   "metadata": {
    "ExecuteTime": {
     "end_time": "2019-06-27T17:42:27.431232Z",
     "start_time": "2019-06-27T17:41:39.323652Z"
    }
   },
   "outputs": [
    {
     "name": "stdout",
     "output_type": "stream",
     "text": [
      "Train on 55000 samples, validate on 5000 samples\n",
      "Epoch 1/10\n",
      "55000/55000 [==============================] - 5s 88us/sample - loss: 0.9077 - accuracy: 0.7303 - val_loss: 0.5853 - val_accuracy: 0.8132\n",
      "Epoch 2/10\n",
      "55000/55000 [==============================] - 5s 84us/sample - loss: 0.5338 - accuracy: 0.8219 - val_loss: 0.4714 - val_accuracy: 0.8446\n",
      "Epoch 3/10\n",
      "55000/55000 [==============================] - 5s 83us/sample - loss: 0.4553 - accuracy: 0.8436 - val_loss: 0.4260 - val_accuracy: 0.8534\n",
      "Epoch 4/10\n",
      "55000/55000 [==============================] - 5s 86us/sample - loss: 0.4136 - accuracy: 0.8550 - val_loss: 0.3905 - val_accuracy: 0.8646\n",
      "Epoch 5/10\n",
      "55000/55000 [==============================] - 5s 94us/sample - loss: 0.3861 - accuracy: 0.8647 - val_loss: 0.3792 - val_accuracy: 0.8664\n",
      "Epoch 6/10\n",
      "55000/55000 [==============================] - 5s 91us/sample - loss: 0.3662 - accuracy: 0.8723 - val_loss: 0.3663 - val_accuracy: 0.8706\n",
      "Epoch 7/10\n",
      "55000/55000 [==============================] - 5s 86us/sample - loss: 0.3499 - accuracy: 0.8772 - val_loss: 0.3524 - val_accuracy: 0.8754\n",
      "Epoch 8/10\n",
      "55000/55000 [==============================] - 5s 82us/sample - loss: 0.3368 - accuracy: 0.8817 - val_loss: 0.3455 - val_accuracy: 0.8780\n",
      "Epoch 9/10\n",
      "55000/55000 [==============================] - 5s 84us/sample - loss: 0.3252 - accuracy: 0.8851 - val_loss: 0.3428 - val_accuracy: 0.8756\n",
      "Epoch 10/10\n",
      "55000/55000 [==============================] - 5s 91us/sample - loss: 0.3137 - accuracy: 0.8888 - val_loss: 0.3304 - val_accuracy: 0.8812\n"
     ]
    }
   ],
   "source": [
    "history = model.fit(x_train_scaled, y_train,\n",
    "                    epochs=10,\n",
    "                    validation_data=(x_valid_scaled, y_valid)\n",
    "                    )"
   ]
  },
  {
   "cell_type": "code",
   "execution_count": 29,
   "metadata": {
    "ExecuteTime": {
     "end_time": "2019-06-27T17:42:38.041977Z",
     "start_time": "2019-06-27T17:42:37.507198Z"
    }
   },
   "outputs": [
    {
     "data": {
      "image/png": "[encoded data removed]",
      "text/plain": [
       "<Figure size 576x360 with 1 Axes>"
      ]
     },
     "metadata": {
      "needs_background": "light"
     },
     "output_type": "display_data"
    }
   ],
   "source": [
    "def plot_learning_curves(history):\n",
    "    pd.DataFrame(history.history).plot(figsize=(8, 5))\n",
    "    plt.grid(True)\n",
    "    plt.gca().set_ylim(0, 1)\n",
    "    plt.show()\n",
    "\n",
    "\n",
    "plot_learning_curves(history)"
   ]
  },
  {
   "cell_type": "code",
   "execution_count": 31,
   "metadata": {
    "ExecuteTime": {
     "end_time": "2019-06-27T17:43:45.110253Z",
     "start_time": "2019-06-27T17:43:44.731038Z"
    }
   },
   "outputs": [
    {
     "name": "stdout",
     "output_type": "stream",
     "text": [
      "10000/10000 [==============================] - 0s 37us/sample - loss: 0.3632 - accuracy: 0.8717\n"
     ]
    },
    {
     "data": {
      "text/plain": [
       "[0.36322683815956114, 0.8717]"
      ]
     },
     "execution_count": 31,
     "metadata": {},
     "output_type": "execute_result"
    }
   ],
   "source": [
    "#使用测试集验证模型的准确度\n",
    "model.evaluate(x_test_scaled, y_test)"
   ]
  }
 ],
 "metadata": {
  "kernelspec": {
   "display_name": "Python 3",
   "language": "python",
   "name": "python3"
  },
  "language_info": {
   "codemirror_mode": {
    "name": "ipython",
    "version": 3
   },
   "file_extension": ".py",
   "mimetype": "text/x-python",
   "name": "python",
   "nbconvert_exporter": "python",
   "pygments_lexer": "ipython3",
   "version": "3.6.8"
  },
  "toc": {
   "base_numbering": 1,
   "nav_menu": {},
   "number_sections": true,
   "sideBar": true,
   "skip_h1_title": false,
   "title_cell": "Table of Contents",
   "title_sidebar": "Contents",
   "toc_cell": false,
   "toc_position": {},
   "toc_section_display": true,
   "toc_window_display": false
  }
 },
 "nbformat": 4,
 "nbformat_minor": 2
}
