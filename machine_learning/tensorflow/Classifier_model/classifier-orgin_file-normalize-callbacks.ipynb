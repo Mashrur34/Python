{
 "cells": [
  {
   "cell_type": "markdown",
   "metadata": {},
   "source": [
    "# TensorFlow的分类器模型构建(监督学习)归一化后--回调函数\n",
    "使用数据集-> Fashion Mnist"
   ]
  },
  {
   "cell_type": "code",
   "execution_count": 1,
   "metadata": {
    "ExecuteTime": {
     "end_time": "2019-06-27T18:17:07.963733Z",
     "start_time": "2019-06-27T18:16:59.461437Z"
    }
   },
   "outputs": [],
   "source": [
    "import os\n",
    "from tensorflow import keras\n",
    "import tensorflow as tf\n",
    "import sklearn\n",
    "import pandas as pd\n",
    "import numpy as np\n",
    "import matplotlib as mpl\n",
    "import matplotlib.pyplot as plt\n",
    "\n",
    "# 这串代码让图像直接显示在Notebook里而不是单独打开一个窗口\n",
    "%matplotlib inline"
   ]
  },
  {
   "cell_type": "code",
   "execution_count": 2,
   "metadata": {
    "ExecuteTime": {
     "end_time": "2019-06-27T18:17:08.653861Z",
     "start_time": "2019-06-27T18:17:07.970427Z"
    }
   },
   "outputs": [
    {
     "name": "stdout",
     "output_type": "stream",
     "text": [
      "255 0\n"
     ]
    }
   ],
   "source": [
    "fashion_mnist = keras.datasets.fashion_mnist\n",
    "(x_train_all, y_train_all), (x_test, y_test) = fashion_mnist.load_data()\n",
    "\n",
    "# 训练集 验证集\n",
    "x_valid, x_train = x_train_all[:5000], x_train_all[5000:]\n",
    "y_valid, y_train = y_train_all[:5000], y_train_all[5000:]\n",
    "\n",
    "# 归一化前的max和min\n",
    "print(np.max(x_train), np.min(x_train))"
   ]
  },
  {
   "cell_type": "markdown",
   "metadata": {},
   "source": [
    "## 数据归一化\n",
    "### 原理\n",
    "> $x = \\frac{x - u} {std}$  \n",
    "  > 其中u 是均值， std 是方差\n",
    "### sklearn的归一化函数\n",
    "首先用`StandardScaler()`创建一个对象  \n",
    "再调用它的方法`.fit_transorm()`  \n",
    "因为这个函数的参数接受只`[样本数 , 特征]`所以我们要先reshape它  \n",
    "- StandardScaler()类的transform要求如下:  \n",
    "> Reshape your data either using array.reshape(-1, 1) if your data has a single feature or array.reshape(1, -1) if it contains a single sample.  \n",
    "\n",
    "**x_train: [None , 28 , 28] ->[None , 784]**"
   ]
  },
  {
   "cell_type": "code",
   "execution_count": 3,
   "metadata": {
    "ExecuteTime": {
     "end_time": "2019-06-27T18:17:10.612706Z",
     "start_time": "2019-06-27T18:17:08.659625Z"
    }
   },
   "outputs": [
    {
     "name": "stdout",
     "output_type": "stream",
     "text": [
      "2.0231433 -0.8105136\n"
     ]
    }
   ],
   "source": [
    "from sklearn.preprocessing import StandardScaler\n",
    "\n",
    "scaler = StandardScaler()\n",
    "x_train_scaled = scaler.fit_transform(\n",
    "    x_train.astype(np.float32).reshape(-1, 1)).reshape(-1, 28, 28)\n",
    "x_valid_scaled = scaler.transform(\n",
    "    x_valid.astype(np.float32).reshape(-1, 1)).reshape(-1, 28, 28)\n",
    "x_test_scaled = scaler.transform(\n",
    "    x_test.astype(np.float32).reshape(-1, 1)).reshape(-1, 28, 28)\n",
    "\n",
    "# 归一化后的max和min\n",
    "print(np.max(x_train_scaled), np.min(x_train_scaled))"
   ]
  },
  {
   "cell_type": "code",
   "execution_count": 4,
   "metadata": {
    "ExecuteTime": {
     "end_time": "2019-06-27T18:17:10.722414Z",
     "start_time": "2019-06-27T18:17:10.618547Z"
    }
   },
   "outputs": [],
   "source": [
    "model = tf.keras.models.Sequential([\n",
    "    keras.layers.Flatten(input_shape=[28, 28]),\n",
    "    keras.layers.Dense(300, activation=\"relu\"),\n",
    "    keras.layers.Dense(100, activation=\"relu\"),\n",
    "    keras.layers.Dense(10, activation=\"softmax\")\n",
    "])"
   ]
  },
  {
   "cell_type": "code",
   "execution_count": 5,
   "metadata": {
    "ExecuteTime": {
     "end_time": "2019-06-27T18:17:10.790947Z",
     "start_time": "2019-06-27T18:17:10.729118Z"
    }
   },
   "outputs": [],
   "source": [
    "model.compile(\n",
    "    loss='sparse_categorical_crossentropy',\n",
    "    optimizer='sgd',\n",
    "    metrics=[\"accuracy\"]\n",
    ")"
   ]
  },
  {
   "cell_type": "markdown",
   "metadata": {},
   "source": [
    "## 回调函数\n",
    "因为回调函数是在训练的过程中调用的，所有我们在fit的时候添加\n",
    "```py\n",
    "tf.keras.callbacks\n",
    "```\n",
    "\n",
    "- [TensorFlow回调函数官方API介绍](https://tensorflow.google.cn/versions/r2.0/api_docs/python/tf/keras/callbacks)\n",
    "### 常用回调函数\n",
    "    1. [EarlyStopping](https://tensorflow.google.cn/versions/r2.0/api_docs/python/tf/keras/callbacks/EarlyStopping)  \n",
    "        当你的模型训练的loss不再下降的时候可以提前停止训练\n",
    " \n",
    "  `min_delta` 是一个阈值， 如果loss在这个阈值内则会触发**EarlyStopping**  \n",
    "   `patience` 出发几次EarlyStopping后停止训练模型\n",
    "    2. [ModelCheckpoint](https://tensorflow.google.cn/versions/r2.0/api_docs/python/tf/keras/callbacks/ModelCheckpoint)  \n",
    "        可以记录在训练过程中某几个时间点模型的参数\n",
    "    3. [TensorBoard](https://tensorflow.google.cn/versions/r2.0/api_docs/python/tf/keras/callbacks/TensorBoard)\n",
    "        非常重要的模型训练时效果的可视化工具"
   ]
  },
  {
   "cell_type": "code",
   "execution_count": 6,
   "metadata": {
    "ExecuteTime": {
     "end_time": "2019-06-27T18:17:58.350196Z",
     "start_time": "2019-06-27T18:17:10.796322Z"
    }
   },
   "outputs": [
    {
     "name": "stdout",
     "output_type": "stream",
     "text": [
      "Train on 55000 samples, validate on 5000 samples\n",
      "Epoch 1/10\n",
      "55000/55000 [==============================] - 3s 60us/sample - loss: 0.9347 - accuracy: 0.6871 - val_loss: 0.6293 - val_accuracy: 0.7918\n",
      "Epoch 2/10\n",
      "55000/55000 [==============================] - 3s 60us/sample - loss: 0.5884 - accuracy: 0.7968 - val_loss: 0.5299 - val_accuracy: 0.8188\n",
      "Epoch 3/10\n",
      "55000/55000 [==============================] - 2s 37us/sample - loss: 0.5174 - accuracy: 0.8201 - val_loss: 0.4848 - val_accuracy: 0.8336\n",
      "Epoch 4/10\n",
      "55000/55000 [==============================] - 2s 37us/sample - loss: 0.4792 - accuracy: 0.8315 - val_loss: 0.4595 - val_accuracy: 0.8448\n",
      "Epoch 5/10\n",
      "55000/55000 [==============================] - 2s 36us/sample - loss: 0.4540 - accuracy: 0.8399 - val_loss: 0.4381 - val_accuracy: 0.8532\n",
      "Epoch 6/10\n",
      "55000/55000 [==============================] - 2s 37us/sample - loss: 0.4358 - accuracy: 0.8459 - val_loss: 0.4260 - val_accuracy: 0.8542\n",
      "Epoch 7/10\n",
      "55000/55000 [==============================] - 2s 43us/sample - loss: 0.4213 - accuracy: 0.8506 - val_loss: 0.4132 - val_accuracy: 0.8596\n",
      "Epoch 8/10\n",
      "55000/55000 [==============================] - 3s 53us/sample - loss: 0.4095 - accuracy: 0.8547 - val_loss: 0.4043 - val_accuracy: 0.8610\n",
      "Epoch 9/10\n",
      "55000/55000 [==============================] - 2s 36us/sample - loss: 0.3995 - accuracy: 0.8584 - val_loss: 0.4012 - val_accuracy: 0.8638\n",
      "Epoch 10/10\n",
      "55000/55000 [==============================] - 3s 49us/sample - loss: 0.3911 - accuracy: 0.8617 - val_loss: 0.3924 - val_accuracy: 0.8628\n"
     ]
    }
   ],
   "source": [
    "# 记录callbacks的文件夹与文件\n",
    "logdir = './callbacks'\n",
    "if not os.path.exists(logdir):\n",
    "    os.mkdir(logdir)\n",
    "output_model_file = os.path.join(logdir, 'fashion_mnist_model.h5')\n",
    "\n",
    "#\n",
    "history = model.fit(x_train_scaled, y_train,\n",
    "                    epochs=10,\n",
    "                    validation_data=(x_valid_scaled, y_valid),\n",
    "                    callbacks=[\n",
    "                        keras.callbacks.EarlyStopping(patience = 5 , min_delta = 1e-3),\n",
    "                        keras.callbacks.ModelCheckpoint(\n",
    "                            output_model_file, save_best_only=True),\n",
    "                        keras.callbacks.TensorBoard(logdir)\n",
    "                    ]\n",
    "                    )"
   ]
  },
  {
   "cell_type": "code",
   "execution_count": 9,
   "metadata": {
    "ExecuteTime": {
     "end_time": "2019-06-27T18:17:58.720887Z",
     "start_time": "2019-06-27T18:17:58.360103Z"
    }
   },
   "outputs": [
    {
     "data": {
      "image/png": "[encoded data removed]",
      "text/plain": [
       "<Figure size 576x360 with 1 Axes>"
      ]
     },
     "metadata": {
      "needs_background": "light"
     },
     "output_type": "display_data"
    }
   ],
   "source": [
    "def plot_learning_curves(history):\n",
    "    pd.DataFrame(history.history).plot(figsize=(8, 5))\n",
    "    plt.grid(True)\n",
    "    plt.gca().set_ylim(0, 1)\n",
    "    plt.show()\n",
    "\n",
    "\n",
    "plot_learning_curves(history)"
   ]
  },
  {
   "cell_type": "code",
   "execution_count": 10,
   "metadata": {
    "ExecuteTime": {
     "end_time": "2019-06-27T18:17:59.081230Z",
     "start_time": "2019-06-27T18:17:58.726083Z"
    }
   },
   "outputs": [
    {
     "name": "stdout",
     "output_type": "stream",
     "text": [
      "10000/10000 [==============================] - 0s 24us/sample - loss: 0.4274 - accuracy: 0.8475\n"
     ]
    },
    {
     "data": {
      "text/plain": [
       "[0.4273928413629532, 0.8475]"
      ]
     },
     "execution_count": 10,
     "metadata": {},
     "output_type": "execute_result"
    }
   ],
   "source": [
    "# 使用测试集验证模型的准确度\n",
    "model.evaluate(x_test_scaled, y_test)"
   ]
  },
  {
   "cell_type": "code",
   "execution_count": null,
   "metadata": {},
   "outputs": [],
   "source": []
  }
 ],
 "metadata": {
  "kernelspec": {
   "display_name": "Python 3",
   "language": "python",
   "name": "python3"
  },
  "language_info": {
   "codemirror_mode": {
    "name": "ipython",
    "version": 3
   },
   "file_extension": ".py",
   "mimetype": "text/x-python",
   "name": "python",
   "nbconvert_exporter": "python",
   "pygments_lexer": "ipython3",
   "version": "3.6.8"
  },
  "toc": {
   "base_numbering": 1,
   "nav_menu": {},
   "number_sections": true,
   "sideBar": true,
   "skip_h1_title": false,
   "title_cell": "Table of Contents",
   "title_sidebar": "Contents",
   "toc_cell": false,
   "toc_position": {},
   "toc_section_display": true,
   "toc_window_display": false
  }
 },
 "nbformat": 4,
 "nbformat_minor": 2
}
