{
 "cells": [
  {
   "cell_type": "markdown",
   "metadata": {},
   "source": [
    "# TensorFlow的分类器模型构建(监督学习)归一化后--回调函数\n",
    "使用数据集-> Fashion Mnist"
   ]
  },
  {
   "cell_type": "code",
   "execution_count": 1,
   "metadata": {
    "ExecuteTime": {
     "end_time": "2019-06-30T16:34:14.626813Z",
     "start_time": "2019-06-30T16:34:12.194496Z"
    }
   },
   "outputs": [],
   "source": [
    "import os\n",
    "from tensorflow import keras\n",
    "import tensorflow as tf\n",
    "import sklearn\n",
    "import pandas as pd\n",
    "import numpy as np\n",
    "import matplotlib as mpl\n",
    "import matplotlib.pyplot as plt\n",
    "\n",
    "# 这串代码让图像直接显示在Notebook里而不是单独打开一个窗口\n",
    "%matplotlib inline"
   ]
  },
  {
   "cell_type": "code",
   "execution_count": 2,
   "metadata": {
    "ExecuteTime": {
     "end_time": "2019-06-30T16:34:17.335602Z",
     "start_time": "2019-06-30T16:34:16.732763Z"
    }
   },
   "outputs": [
    {
     "name": "stdout",
     "output_type": "stream",
     "text": [
      "255 0\n"
     ]
    }
   ],
   "source": [
    "fashion_mnist = keras.datasets.fashion_mnist\n",
    "(x_train_all, y_train_all), (x_test, y_test) = fashion_mnist.load_data()\n",
    "\n",
    "# 训练集 验证集\n",
    "x_valid, x_train = x_train_all[:5000], x_train_all[5000:]\n",
    "y_valid, y_train = y_train_all[:5000], y_train_all[5000:]\n",
    "\n",
    "# 归一化前的max和min\n",
    "print(np.max(x_train), np.min(x_train))"
   ]
  },
  {
   "cell_type": "code",
   "execution_count": 3,
   "metadata": {
    "ExecuteTime": {
     "end_time": "2019-06-30T16:34:20.772311Z",
     "start_time": "2019-06-30T16:34:18.452526Z"
    }
   },
   "outputs": [
    {
     "name": "stdout",
     "output_type": "stream",
     "text": [
      "2.0231433 -0.8105136\n"
     ]
    }
   ],
   "source": [
    "from sklearn.preprocessing import StandardScaler\n",
    "\n",
    "scaler = StandardScaler()\n",
    "x_train_scaled = scaler.fit_transform(\n",
    "    x_train.astype(np.float32).reshape(-1, 1)).reshape(-1, 28, 28)\n",
    "x_valid_scaled = scaler.transform(\n",
    "    x_valid.astype(np.float32).reshape(-1, 1)).reshape(-1, 28, 28)\n",
    "x_test_scaled = scaler.transform(\n",
    "    x_test.astype(np.float32).reshape(-1, 1)).reshape(-1, 28, 28)\n",
    "\n",
    "# 归一化后的max和min\n",
    "print(np.max(x_train_scaled), np.min(x_train_scaled))"
   ]
  },
  {
   "cell_type": "code",
   "execution_count": 4,
   "metadata": {
    "ExecuteTime": {
     "end_time": "2019-06-30T16:34:55.303304Z",
     "start_time": "2019-06-30T16:34:52.988301Z"
    }
   },
   "outputs": [],
   "source": [
    "model = keras.models.Sequential()\n",
    "model.add(keras.layers.Flatten(input_shape = [28,28]))\n",
    "for _ in range(20):\n",
    "    model.add(keras.layers.Dense(100 , activation = 'relu'))\n",
    "    model.add(keras.layers.BatchNormalization()) #批归一化\n",
    "    \n",
    "    \"\"\"\n",
    "    实现批归一化的另一种方法\n",
    "    model.add(keras.layers.Dense(100))\n",
    "    model.add(keras.layers.BatchNormalization())\n",
    "    model.add(keras.layers.Activation('relu'))\n",
    "    \"\"\"\n",
    "    \n",
    "model.add(keras.layers.Dense(10,activation = 'softmax'))"
   ]
  },
  {
   "cell_type": "code",
   "execution_count": 7,
   "metadata": {
    "ExecuteTime": {
     "end_time": "2019-06-30T16:35:38.033873Z",
     "start_time": "2019-06-30T16:35:37.932510Z"
    }
   },
   "outputs": [],
   "source": [
    "model.compile(\n",
    "    loss='sparse_categorical_crossentropy',\n",
    "    optimizer='sgd',\n",
    "    metrics=[\"accuracy\"]\n",
    ")"
   ]
  },
  {
   "cell_type": "code",
   "execution_count": null,
   "metadata": {
    "ExecuteTime": {
     "start_time": "2019-06-30T16:35:39.656Z"
    }
   },
   "outputs": [
    {
     "name": "stderr",
     "output_type": "stream",
     "text": [
      "WARNING: Logging before flag parsing goes to stderr.\n",
      "W0701 00:35:40.036817 140114069792576 deprecation.py:323] From /home/ubuntu/.local/lib/python3.6/site-packages/tensorflow/python/ops/math_grad.py:1250: add_dispatch_support.<locals>.wrapper (from tensorflow.python.ops.array_ops) is deprecated and will be removed in a future version.\n",
      "Instructions for updating:\n",
      "Use tf.where in 2.0, which has the same broadcast rule as np.where\n"
     ]
    },
    {
     "name": "stdout",
     "output_type": "stream",
     "text": [
      "Train on 55000 samples, validate on 5000 samples\n",
      "Epoch 1/20\n",
      "55000/55000 [==============================] - 30s 539us/sample - loss: 1.0810 - accuracy: 0.6135 - val_loss: 0.6608 - val_accuracy: 0.7572\n",
      "Epoch 2/20\n",
      "55000/55000 [==============================] - 17s 307us/sample - loss: 0.7637 - accuracy: 0.7276 - val_loss: 0.5717 - val_accuracy: 0.7972\n",
      "Epoch 3/20\n",
      "55000/55000 [==============================] - 17s 308us/sample - loss: 0.6623 - accuracy: 0.7669 - val_loss: 0.5068 - val_accuracy: 0.8148\n",
      "Epoch 4/20\n",
      "55000/55000 [==============================] - 18s 336us/sample - loss: 0.6003 - accuracy: 0.7901 - val_loss: 0.4821 - val_accuracy: 0.8366\n",
      "Epoch 5/20\n",
      "55000/55000 [==============================] - 17s 310us/sample - loss: 0.5554 - accuracy: 0.8052 - val_loss: 0.4312 - val_accuracy: 0.8496\n",
      "Epoch 6/20\n",
      "55000/55000 [==============================] - 19s 345us/sample - loss: 0.5181 - accuracy: 0.8188 - val_loss: 0.4222 - val_accuracy: 0.8542\n",
      "Epoch 7/20\n",
      "55000/55000 [==============================] - 17s 311us/sample - loss: 0.4925 - accuracy: 0.8273 - val_loss: 0.4031 - val_accuracy: 0.8570\n",
      "Epoch 8/20\n",
      "55000/55000 [==============================] - 17s 307us/sample - loss: 0.4711 - accuracy: 0.8346 - val_loss: 0.3951 - val_accuracy: 0.8620\n",
      "Epoch 9/20\n",
      "55000/55000 [==============================] - 16s 298us/sample - loss: 0.4484 - accuracy: 0.8431 - val_loss: 0.3879 - val_accuracy: 0.8654\n",
      "Epoch 10/20\n",
      "55000/55000 [==============================] - 17s 302us/sample - loss: 0.4337 - accuracy: 0.8480 - val_loss: 0.3697 - val_accuracy: 0.8680\n",
      "Epoch 11/20\n",
      "50656/55000 [==========================>...] - ETA: 1s - loss: 0.4259 - accuracy: 0.8509"
     ]
    }
   ],
   "source": [
    "# 记录callbacks的文件夹与文件\n",
    "logdir = './callbacks_bn'\n",
    "if not os.path.exists(logdir):\n",
    "    os.mkdir(logdir)\n",
    "output_model_file = os.path.join(logdir, 'fashion_mnist_model.h5')\n",
    "\n",
    "#\n",
    "history = model.fit(x_train_scaled, y_train,\n",
    "                    epochs=10,\n",
    "                    validation_data=(x_valid_scaled, y_valid),\n",
    "                    callbacks=[\n",
    "                        keras.callbacks.EarlyStopping(patience = 5 , min_delta = 1e-3),\n",
    "                        keras.callbacks.ModelCheckpoint(\n",
    "                            output_model_file, save_best_only=True),\n",
    "                        keras.callbacks.TensorBoard(logdir)\n",
    "                    ]\n",
    "                    )"
   ]
  },
  {
   "cell_type": "code",
   "execution_count": null,
   "metadata": {
    "ExecuteTime": {
     "end_time": "2019-06-30T15:59:54.681077Z",
     "start_time": "2019-06-30T15:59:54.335278Z"
    }
   },
   "outputs": [],
   "source": [
    "def plot_learning_curves(history):\n",
    "    pd.DataFrame(history.history).plot(figsize=(8, 5))\n",
    "    plt.grid(True)\n",
    "    plt.gca().set_ylim(0, 1)\n",
    "    plt.show()\n",
    "\n",
    "\n",
    "plot_learning_curves(history)"
   ]
  },
  {
   "cell_type": "code",
   "execution_count": null,
   "metadata": {
    "ExecuteTime": {
     "end_time": "2019-06-30T16:00:10.765834Z",
     "start_time": "2019-06-30T16:00:09.174727Z"
    }
   },
   "outputs": [],
   "source": [
    "# 使用测试集验证模型的准确度\n",
    "model.evaluate(x_test_scaled, y_test)"
   ]
  },
  {
   "cell_type": "code",
   "execution_count": null,
   "metadata": {},
   "outputs": [],
   "source": []
  }
 ],
 "metadata": {
  "kernelspec": {
   "display_name": "Python 3",
   "language": "python",
   "name": "python3"
  },
  "language_info": {
   "codemirror_mode": {
    "name": "ipython",
    "version": 3
   },
   "file_extension": ".py",
   "mimetype": "text/x-python",
   "name": "python",
   "nbconvert_exporter": "python",
   "pygments_lexer": "ipython3",
   "version": "3.6.8"
  },
  "toc": {
   "base_numbering": 1,
   "nav_menu": {},
   "number_sections": true,
   "sideBar": true,
   "skip_h1_title": false,
   "title_cell": "Table of Contents",
   "title_sidebar": "Contents",
   "toc_cell": false,
   "toc_position": {},
   "toc_section_display": true,
   "toc_window_display": false
  }
 },
 "nbformat": 4,
 "nbformat_minor": 2
}
