{
 "cells": [
  {
   "cell_type": "markdown",
   "metadata": {},
   "source": [
    "# TensorFlow的分类器模型构建(监督学习)归一化后--回调函数\n",
    "使用数据集-> Fashion Mnist"
   ]
  },
  {
   "cell_type": "code",
   "execution_count": 3,
   "metadata": {
    "ExecuteTime": {
     "end_time": "2019-06-27T18:17:07.963733Z",
     "start_time": "2019-06-27T18:16:59.461437Z"
    }
   },
   "outputs": [],
   "source": [
    "import os\n",
    "from tensorflow import keras\n",
    "import tensorflow as tf\n",
    "import sklearn\n",
    "import pandas as pd\n",
    "import numpy as np\n",
    "import matplotlib as mpl\n",
    "import matplotlib.pyplot as plt\n",
    "\n",
    "# 这串代码让图像直接显示在Notebook里而不是单独打开一个窗口\n",
    "%matplotlib inline"
   ]
  },
  {
   "cell_type": "code",
   "execution_count": 4,
   "metadata": {
    "ExecuteTime": {
     "end_time": "2019-06-27T18:17:08.653861Z",
     "start_time": "2019-06-27T18:17:07.970427Z"
    }
   },
   "outputs": [
    {
     "name": "stdout",
     "output_type": "stream",
     "text": [
      "255 0\n"
     ]
    }
   ],
   "source": [
    "fashion_mnist = keras.datasets.fashion_mnist\n",
    "(x_train_all, y_train_all), (x_test, y_test) = fashion_mnist.load_data()\n",
    "\n",
    "# 训练集 验证集\n",
    "x_valid, x_train = x_train_all[:5000], x_train_all[5000:]\n",
    "y_valid, y_train = y_train_all[:5000], y_train_all[5000:]\n",
    "\n",
    "# 归一化前的max和min\n",
    "print(np.max(x_train), np.min(x_train))"
   ]
  },
  {
   "cell_type": "code",
   "execution_count": 5,
   "metadata": {
    "ExecuteTime": {
     "end_time": "2019-06-27T18:17:10.612706Z",
     "start_time": "2019-06-27T18:17:08.659625Z"
    }
   },
   "outputs": [
    {
     "name": "stdout",
     "output_type": "stream",
     "text": [
      "2.0231433 -0.8105136\n"
     ]
    }
   ],
   "source": [
    "from sklearn.preprocessing import StandardScaler\n",
    "\n",
    "scaler = StandardScaler()\n",
    "x_train_scaled = scaler.fit_transform(\n",
    "    x_train.astype(np.float32).reshape(-1, 1)).reshape(-1, 28, 28)\n",
    "x_valid_scaled = scaler.transform(\n",
    "    x_valid.astype(np.float32).reshape(-1, 1)).reshape(-1, 28, 28)\n",
    "x_test_scaled = scaler.transform(\n",
    "    x_test.astype(np.float32).reshape(-1, 1)).reshape(-1, 28, 28)\n",
    "\n",
    "# 归一化后的max和min\n",
    "print(np.max(x_train_scaled), np.min(x_train_scaled))"
   ]
  },
  {
   "cell_type": "code",
   "execution_count": 15,
   "metadata": {
    "ExecuteTime": {
     "end_time": "2019-06-27T18:17:10.722414Z",
     "start_time": "2019-06-27T18:17:10.618547Z"
    }
   },
   "outputs": [],
   "source": [
    "model = keras.models.Sequential()\n",
    "model.add(keras.layers.Flatten(input_shape = [28,28]))\n",
    "for _ in range(20):\n",
    "    model.add(keras.layers.Dense(200 , activation = 'selu'))\n",
    "model.add(keras.layers.Dense(10,activation = 'softmax'))"
   ]
  },
  {
   "cell_type": "code",
   "execution_count": 16,
   "metadata": {
    "ExecuteTime": {
     "end_time": "2019-06-27T18:17:10.790947Z",
     "start_time": "2019-06-27T18:17:10.729118Z"
    }
   },
   "outputs": [],
   "source": [
    "model.compile(\n",
    "    loss='sparse_categorical_crossentropy',\n",
    "    optimizer='adam',\n",
    "    metrics=[\"accuracy\"]\n",
    ")"
   ]
  },
  {
   "cell_type": "code",
   "execution_count": 17,
   "metadata": {
    "ExecuteTime": {
     "end_time": "2019-06-27T18:17:58.350196Z",
     "start_time": "2019-06-27T18:17:10.796322Z"
    }
   },
   "outputs": [
    {
     "name": "stdout",
     "output_type": "stream",
     "text": [
      "Train on 55000 samples, validate on 5000 samples\n",
      "Epoch 1/10\n",
      "55000/55000 [==============================] - 22s 391us/sample - loss: 0.8567 - accuracy: 0.7099 - val_loss: 0.6296 - val_accuracy: 0.7882\n",
      "Epoch 2/10\n",
      "55000/55000 [==============================] - 22s 392us/sample - loss: 0.7184 - accuracy: 0.7506 - val_loss: 0.6898 - val_accuracy: 0.7944\n",
      "Epoch 3/10\n",
      "55000/55000 [==============================] - 21s 376us/sample - loss: 0.7841 - accuracy: 0.7184 - val_loss: 0.7130 - val_accuracy: 0.7438\n",
      "Epoch 4/10\n",
      "55000/55000 [==============================] - 20s 372us/sample - loss: 0.8871 - accuracy: 0.6676 - val_loss: 0.8003 - val_accuracy: 0.7180\n",
      "Epoch 5/10\n",
      "55000/55000 [==============================] - 21s 375us/sample - loss: 0.7264 - accuracy: 0.7432 - val_loss: 0.7027 - val_accuracy: 0.7470\n",
      "Epoch 6/10\n",
      "55000/55000 [==============================] - 20s 358us/sample - loss: 0.6328 - accuracy: 0.7778 - val_loss: 0.5805 - val_accuracy: 0.8096\n",
      "Epoch 7/10\n",
      "55000/55000 [==============================] - 17s 313us/sample - loss: 2.2896 - accuracy: 0.7630 - val_loss: 0.8900 - val_accuracy: 0.6720\n",
      "Epoch 8/10\n",
      "55000/55000 [==============================] - 14s 255us/sample - loss: 0.6095 - accuracy: 0.7817 - val_loss: 0.5680 - val_accuracy: 0.8062\n",
      "Epoch 9/10\n",
      "55000/55000 [==============================] - 20s 372us/sample - loss: 0.5466 - accuracy: 0.8109 - val_loss: 0.5471 - val_accuracy: 0.8170\n",
      "Epoch 10/10\n",
      "55000/55000 [==============================] - 19s 351us/sample - loss: 0.5788 - accuracy: 0.8086 - val_loss: 0.5446 - val_accuracy: 0.8314\n"
     ]
    }
   ],
   "source": [
    "# 记录callbacks的文件夹与文件\n",
    "logdir = './callbacks'\n",
    "if not os.path.exists(logdir):\n",
    "    os.mkdir(logdir)\n",
    "output_model_file = os.path.join(logdir, 'fashion_mnist_model.h5')\n",
    "\n",
    "#\n",
    "history = model.fit(x_train_scaled, y_train,\n",
    "                    epochs=10,\n",
    "                    validation_data=(x_valid_scaled, y_valid),\n",
    "                    callbacks=[\n",
    "                        keras.callbacks.EarlyStopping(patience = 5 , min_delta = 1e-3),\n",
    "                        keras.callbacks.ModelCheckpoint(\n",
    "                            output_model_file, save_best_only=True),\n",
    "                        keras.callbacks.TensorBoard(logdir)\n",
    "                    ]\n",
    "                    )"
   ]
  },
  {
   "cell_type": "code",
   "execution_count": 18,
   "metadata": {
    "ExecuteTime": {
     "end_time": "2019-06-27T18:17:58.720887Z",
     "start_time": "2019-06-27T18:17:58.360103Z"
    }
   },
   "outputs": [
    {
     "data": {
      "image/png": "[encoded data removed]",
      "text/plain": [
       "<Figure size 576x360 with 1 Axes>"
      ]
     },
     "metadata": {
      "needs_background": "light"
     },
     "output_type": "display_data"
    }
   ],
   "source": [
    "def plot_learning_curves(history):\n",
    "    pd.DataFrame(history.history).plot(figsize=(8, 5))\n",
    "    plt.grid(True)\n",
    "    plt.gca().set_ylim(0, 1)\n",
    "    plt.show()\n",
    "\n",
    "\n",
    "plot_learning_curves(history)"
   ]
  },
  {
   "cell_type": "code",
   "execution_count": 19,
   "metadata": {
    "ExecuteTime": {
     "end_time": "2019-06-27T18:17:59.081230Z",
     "start_time": "2019-06-27T18:17:58.726083Z"
    }
   },
   "outputs": [
    {
     "name": "stdout",
     "output_type": "stream",
     "text": [
      "10000/10000 [==============================] - 1s 118us/sample - loss: 0.5976 - accuracy: 0.8099\n"
     ]
    },
    {
     "data": {
      "text/plain": [
       "[0.5976362979412079, 0.8099]"
      ]
     },
     "execution_count": 19,
     "metadata": {},
     "output_type": "execute_result"
    }
   ],
   "source": [
    "# 使用测试集验证模型的准确度\n",
    "model.evaluate(x_test_scaled, y_test)"
   ]
  },
  {
   "cell_type": "code",
   "execution_count": null,
   "metadata": {},
   "outputs": [],
   "source": []
  }
 ],
 "metadata": {
  "kernelspec": {
   "display_name": "Python 3",
   "language": "python",
   "name": "python3"
  },
  "language_info": {
   "codemirror_mode": {
    "name": "ipython",
    "version": 3
   },
   "file_extension": ".py",
   "mimetype": "text/x-python",
   "name": "python",
   "nbconvert_exporter": "python",
   "pygments_lexer": "ipython3",
   "version": "3.6.8"
  },
  "toc": {
   "base_numbering": 1,
   "nav_menu": {},
   "number_sections": true,
   "sideBar": true,
   "skip_h1_title": false,
   "title_cell": "Table of Contents",
   "title_sidebar": "Contents",
   "toc_cell": false,
   "toc_position": {},
   "toc_section_display": true,
   "toc_window_display": false
  }
 },
 "nbformat": 4,
 "nbformat_minor": 2
}
