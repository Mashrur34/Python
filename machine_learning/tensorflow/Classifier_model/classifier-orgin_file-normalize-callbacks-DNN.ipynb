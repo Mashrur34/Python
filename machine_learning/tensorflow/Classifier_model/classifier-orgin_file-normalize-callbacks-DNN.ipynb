{
 "cells": [
  {
   "cell_type": "markdown",
   "metadata": {},
   "source": [
    "# TensorFlow的分类器模型构建(监督学习)归一化后--回调函数\n",
    "使用数据集-> Fashion Mnist"
   ]
  },
  {
   "cell_type": "code",
   "execution_count": 1,
   "metadata": {
    "ExecuteTime": {
     "end_time": "2019-06-30T15:43:23.126794Z",
     "start_time": "2019-06-30T15:43:15.863344Z"
    }
   },
   "outputs": [],
   "source": [
    "import os\n",
    "from tensorflow import keras\n",
    "import tensorflow as tf\n",
    "import sklearn\n",
    "import pandas as pd\n",
    "import numpy as np\n",
    "import matplotlib as mpl\n",
    "import matplotlib.pyplot as plt\n",
    "\n",
    "# 这串代码让图像直接显示在Notebook里而不是单独打开一个窗口\n",
    "%matplotlib inline"
   ]
  },
  {
   "cell_type": "code",
   "execution_count": 2,
   "metadata": {
    "ExecuteTime": {
     "end_time": "2019-06-30T15:43:24.047673Z",
     "start_time": "2019-06-30T15:43:23.134527Z"
    }
   },
   "outputs": [
    {
     "name": "stdout",
     "output_type": "stream",
     "text": [
      "255 0\n"
     ]
    }
   ],
   "source": [
    "fashion_mnist = keras.datasets.fashion_mnist\n",
    "(x_train_all, y_train_all), (x_test, y_test) = fashion_mnist.load_data()\n",
    "\n",
    "# 训练集 验证集\n",
    "x_valid, x_train = x_train_all[:5000], x_train_all[5000:]\n",
    "y_valid, y_train = y_train_all[:5000], y_train_all[5000:]\n",
    "\n",
    "# 归一化前的max和min\n",
    "print(np.max(x_train), np.min(x_train))"
   ]
  },
  {
   "cell_type": "code",
   "execution_count": 3,
   "metadata": {
    "ExecuteTime": {
     "end_time": "2019-06-30T15:43:27.996735Z",
     "start_time": "2019-06-30T15:43:24.052977Z"
    }
   },
   "outputs": [
    {
     "name": "stdout",
     "output_type": "stream",
     "text": [
      "2.0231433 -0.8105136\n"
     ]
    }
   ],
   "source": [
    "from sklearn.preprocessing import StandardScaler\n",
    "\n",
    "scaler = StandardScaler()\n",
    "x_train_scaled = scaler.fit_transform(\n",
    "    x_train.astype(np.float32).reshape(-1, 1)).reshape(-1, 28, 28)\n",
    "x_valid_scaled = scaler.transform(\n",
    "    x_valid.astype(np.float32).reshape(-1, 1)).reshape(-1, 28, 28)\n",
    "x_test_scaled = scaler.transform(\n",
    "    x_test.astype(np.float32).reshape(-1, 1)).reshape(-1, 28, 28)\n",
    "\n",
    "# 归一化后的max和min\n",
    "print(np.max(x_train_scaled), np.min(x_train_scaled))"
   ]
  },
  {
   "cell_type": "code",
   "execution_count": 4,
   "metadata": {
    "ExecuteTime": {
     "end_time": "2019-06-30T15:43:28.712423Z",
     "start_time": "2019-06-30T15:43:28.004383Z"
    }
   },
   "outputs": [
    {
     "name": "stderr",
     "output_type": "stream",
     "text": [
      "WARNING: Logging before flag parsing goes to stderr.\n",
      "W0630 23:43:28.255173 140275690293056 deprecation.py:323] From /home/ubuntu/.local/lib/python3.6/site-packages/tensorflow/python/keras/backend.py:4149: add_dispatch_support.<locals>.wrapper (from tensorflow.python.ops.array_ops) is deprecated and will be removed in a future version.\n",
      "Instructions for updating:\n",
      "Use tf.where in 2.0, which has the same broadcast rule as np.where\n"
     ]
    }
   ],
   "source": [
    "model = keras.models.Sequential()\n",
    "model.add(keras.layers.Flatten(input_shape = [28,28]))\n",
    "for _ in range(20):\n",
    "    model.add(keras.layers.Dense(200 , activation = 'selu'))\n",
    "model.add(keras.layers.Dense(10,activation = 'softmax'))"
   ]
  },
  {
   "cell_type": "code",
   "execution_count": 6,
   "metadata": {
    "ExecuteTime": {
     "end_time": "2019-06-30T15:43:42.488724Z",
     "start_time": "2019-06-30T15:43:42.400039Z"
    }
   },
   "outputs": [],
   "source": [
    "model.compile(\n",
    "    loss='sparse_categorical_crossentropy',\n",
    "    optimizer='sgd',\n",
    "    metrics=[\"accuracy\"]\n",
    ")"
   ]
  },
  {
   "cell_type": "code",
   "execution_count": 10,
   "metadata": {
    "ExecuteTime": {
     "end_time": "2019-06-30T16:03:07.178790Z",
     "start_time": "2019-06-30T16:00:37.700790Z"
    }
   },
   "outputs": [
    {
     "name": "stdout",
     "output_type": "stream",
     "text": [
      "Train on 55000 samples, validate on 5000 samples\n",
      "Epoch 1/20\n",
      "55000/55000 [==============================] - 23s 418us/sample - loss: 0.2076 - accuracy: 0.9210 - val_loss: 0.3361 - val_accuracy: 0.8816\n",
      "Epoch 2/20\n",
      "55000/55000 [==============================] - 22s 392us/sample - loss: 0.1991 - accuracy: 0.9234 - val_loss: 0.3136 - val_accuracy: 0.8950\n",
      "Epoch 3/20\n",
      "55000/55000 [==============================] - 21s 374us/sample - loss: 0.1864 - accuracy: 0.9294 - val_loss: 0.3867 - val_accuracy: 0.8784\n",
      "Epoch 4/20\n",
      "55000/55000 [==============================] - 22s 403us/sample - loss: 0.1801 - accuracy: 0.9320 - val_loss: 0.3355 - val_accuracy: 0.8878\n",
      "Epoch 5/20\n",
      "55000/55000 [==============================] - 21s 375us/sample - loss: 0.1727 - accuracy: 0.9349 - val_loss: 0.3338 - val_accuracy: 0.8912\n",
      "Epoch 6/20\n",
      "55000/55000 [==============================] - 21s 374us/sample - loss: 0.1663 - accuracy: 0.9346 - val_loss: 0.3445 - val_accuracy: 0.8892\n",
      "Epoch 7/20\n",
      "55000/55000 [==============================] - 21s 379us/sample - loss: 0.1598 - accuracy: 0.9394 - val_loss: 0.3504 - val_accuracy: 0.8906\n"
     ]
    }
   ],
   "source": [
    "# 记录callbacks的文件夹与文件\n",
    "logdir = './callbacks'\n",
    "if not os.path.exists(logdir):\n",
    "    os.mkdir(logdir)\n",
    "output_model_file = os.path.join(logdir, 'fashion_mnist_model.h5')\n",
    "\n",
    "#\n",
    "history = model.fit(x_train_scaled, y_train,\n",
    "                    epochs=20,\n",
    "                    validation_data=(x_valid_scaled, y_valid),\n",
    "                    callbacks=[\n",
    "                        keras.callbacks.EarlyStopping(patience = 5 , min_delta = 1e-3),\n",
    "                        keras.callbacks.ModelCheckpoint(\n",
    "                            output_model_file, save_best_only=True),\n",
    "                        keras.callbacks.TensorBoard(logdir)\n",
    "                    ]\n",
    "                    )"
   ]
  },
  {
   "cell_type": "code",
   "execution_count": 8,
   "metadata": {
    "ExecuteTime": {
     "end_time": "2019-06-30T15:59:54.681077Z",
     "start_time": "2019-06-30T15:59:54.335278Z"
    }
   },
   "outputs": [
    {
     "data": {
      "image/png": "[encoded data removed]",
      "text/plain": [
       "<Figure size 576x360 with 1 Axes>"
      ]
     },
     "metadata": {
      "needs_background": "light"
     },
     "output_type": "display_data"
    }
   ],
   "source": [
    "def plot_learning_curves(history):\n",
    "    pd.DataFrame(history.history).plot(figsize=(8, 5))\n",
    "    plt.grid(True)\n",
    "    plt.gca().set_ylim(0, 1)\n",
    "    plt.show()\n",
    "\n",
    "\n",
    "plot_learning_curves(history)"
   ]
  },
  {
   "cell_type": "code",
   "execution_count": 9,
   "metadata": {
    "ExecuteTime": {
     "end_time": "2019-06-30T16:00:10.765834Z",
     "start_time": "2019-06-30T16:00:09.174727Z"
    }
   },
   "outputs": [
    {
     "name": "stdout",
     "output_type": "stream",
     "text": [
      "10000/10000 [==============================] - ETA: 0s - loss: 0.3530 - accuracy: 0.87 - 2s 157us/sample - loss: 0.3532 - accuracy: 0.8740\n"
     ]
    },
    {
     "data": {
      "text/plain": [
       "[0.3531768734037876, 0.874]"
      ]
     },
     "execution_count": 9,
     "metadata": {},
     "output_type": "execute_result"
    }
   ],
   "source": [
    "# 使用测试集验证模型的准确度\n",
    "model.evaluate(x_test_scaled, y_test)"
   ]
  },
  {
   "cell_type": "code",
   "execution_count": null,
   "metadata": {},
   "outputs": [],
   "source": []
  }
 ],
 "metadata": {
  "kernelspec": {
   "display_name": "Python 3",
   "language": "python",
   "name": "python3"
  },
  "language_info": {
   "codemirror_mode": {
    "name": "ipython",
    "version": 3
   },
   "file_extension": ".py",
   "mimetype": "text/x-python",
   "name": "python",
   "nbconvert_exporter": "python",
   "pygments_lexer": "ipython3",
   "version": "3.6.8"
  },
  "toc": {
   "base_numbering": 1,
   "nav_menu": {},
   "number_sections": true,
   "sideBar": true,
   "skip_h1_title": false,
   "title_cell": "Table of Contents",
   "title_sidebar": "Contents",
   "toc_cell": false,
   "toc_position": {},
   "toc_section_display": true,
   "toc_window_display": false
  }
 },
 "nbformat": 4,
 "nbformat_minor": 2
}
