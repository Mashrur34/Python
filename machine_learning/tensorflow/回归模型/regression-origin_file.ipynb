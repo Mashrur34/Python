{
 "cells": [
  {
   "cell_type": "markdown",
   "metadata": {},
   "source": [
    "# TensorFlow的回归模型构建(监督学习)\n",
    "使用数据集-> California Housing"
   ]
  },
  {
   "cell_type": "code",
   "execution_count": 1,
   "metadata": {
    "ExecuteTime": {
     "end_time": "2019-06-27T18:26:13.033889Z",
     "start_time": "2019-06-27T18:26:10.552041Z"
    }
   },
   "outputs": [],
   "source": [
    "import os\n",
    "from tensorflow import keras\n",
    "import tensorflow as tf\n",
    "import sklearn\n",
    "import pandas as pd\n",
    "import numpy as np\n",
    "import matplotlib as mpl\n",
    "import matplotlib.pyplot as plt\n",
    "\n",
    "%matplotlib inline"
   ]
  },
  {
   "cell_type": "markdown",
   "metadata": {},
   "source": [
    "## 导入数据集并检视数据"
   ]
  },
  {
   "cell_type": "code",
   "execution_count": 2,
   "metadata": {
    "ExecuteTime": {
     "end_time": "2019-06-27T18:30:32.617713Z",
     "start_time": "2019-06-27T18:30:28.317770Z"
    }
   },
   "outputs": [
    {
     "name": "stderr",
     "output_type": "stream",
     "text": [
      "Downloading Cal. housing from https://ndownloader.figshare.com/files/5976036 to /home/ubuntu/scikit_learn_data\n",
      "WARNING: Logging before flag parsing goes to stderr.\n",
      "I0628 02:30:28.322081 139994664425280 california_housing.py:114] Downloading Cal. housing from https://ndownloader.figshare.com/files/5976036 to /home/ubuntu/scikit_learn_data\n"
     ]
    },
    {
     "name": "stdout",
     "output_type": "stream",
     "text": [
      ".. _california_housing_dataset:\n",
      "\n",
      "California Housing dataset\n",
      "--------------------------\n",
      "\n",
      "**Data Set Characteristics:**\n",
      "\n",
      "    :Number of Instances: 20640\n",
      "\n",
      "    :Number of Attributes: 8 numeric, predictive attributes and the target\n",
      "\n",
      "    :Attribute Information:\n",
      "        - MedInc        median income in block\n",
      "        - HouseAge      median house age in block\n",
      "        - AveRooms      average number of rooms\n",
      "        - AveBedrms     average number of bedrooms\n",
      "        - Population    block population\n",
      "        - AveOccup      average house occupancy\n",
      "        - Latitude      house block latitude\n",
      "        - Longitude     house block longitude\n",
      "\n",
      "    :Missing Attribute Values: None\n",
      "\n",
      "This dataset was obtained from the StatLib repository.\n",
      "http://lib.stat.cmu.edu/datasets/\n",
      "\n",
      "The target variable is the median house value for California districts.\n",
      "\n",
      "This dataset was derived from the 1990 U.S. census, using one row per census\n",
      "block group. A block group is the smallest geographical unit for which the U.S.\n",
      "Census Bureau publishes sample data (a block group typically has a population\n",
      "of 600 to 3,000 people).\n",
      "\n",
      "It can be downloaded/loaded using the\n",
      ":func:`sklearn.datasets.fetch_california_housing` function.\n",
      "\n",
      ".. topic:: References\n",
      "\n",
      "    - Pace, R. Kelley and Ronald Barry, Sparse Spatial Autoregressions,\n",
      "      Statistics and Probability Letters, 33 (1997) 291-297\n",
      "\n",
      "(20640, 8)\n",
      "(20640,)\n"
     ]
    }
   ],
   "source": [
    "from sklearn.datasets import fetch_california_housing\n",
    "\n",
    "housing = fetch_california_housing()\n",
    "print(housing.DESCR)\n",
    "print(housing.data.shape)  # Features\n",
    "print(housing.target.shape)  # Labels"
   ]
  },
  {
   "cell_type": "markdown",
   "metadata": {},
   "source": [
    "### 检索前五个数据"
   ]
  },
  {
   "cell_type": "code",
   "execution_count": 7,
   "metadata": {
    "ExecuteTime": {
     "end_time": "2019-06-27T18:33:42.391746Z",
     "start_time": "2019-06-27T18:33:42.380751Z"
    }
   },
   "outputs": [
    {
     "name": "stdout",
     "output_type": "stream",
     "text": [
      "Features:\n",
      " [[ 8.32520000e+00  4.10000000e+01  6.98412698e+00  1.02380952e+00\n",
      "   3.22000000e+02  2.55555556e+00  3.78800000e+01 -1.22230000e+02]\n",
      " [ 8.30140000e+00  2.10000000e+01  6.23813708e+00  9.71880492e-01\n",
      "   2.40100000e+03  2.10984183e+00  3.78600000e+01 -1.22220000e+02]\n",
      " [ 7.25740000e+00  5.20000000e+01  8.28813559e+00  1.07344633e+00\n",
      "   4.96000000e+02  2.80225989e+00  3.78500000e+01 -1.22240000e+02]\n",
      " [ 5.64310000e+00  5.20000000e+01  5.81735160e+00  1.07305936e+00\n",
      "   5.58000000e+02  2.54794521e+00  3.78500000e+01 -1.22250000e+02]\n",
      " [ 3.84620000e+00  5.20000000e+01  6.28185328e+00  1.08108108e+00\n",
      "   5.65000000e+02  2.18146718e+00  3.78500000e+01 -1.22250000e+02]]\n",
      "Labels:\n",
      " [4.526 3.585 3.521 3.413 3.422]\n"
     ]
    }
   ],
   "source": [
    "print(\"Features:\\n\", housing.data[:5])\n",
    "print(\"Labels:\\n\", housing.target[:5])"
   ]
  },
  {
   "cell_type": "markdown",
   "metadata": {},
   "source": [
    "## 把数据集分成 训练集 验证集 测试集\n",
    "调用sklearn的函数\n",
    "```py\n",
    "from sklearn.model_selection import train_test_split\n",
    "```"
   ]
  },
  {
   "cell_type": "code",
   "execution_count": 10,
   "metadata": {
    "ExecuteTime": {
     "end_time": "2019-06-27T18:40:45.208254Z",
     "start_time": "2019-06-27T18:40:45.189525Z"
    }
   },
   "outputs": [
    {
     "name": "stdout",
     "output_type": "stream",
     "text": [
      "(11610, 8)\n",
      "(11610,)\n",
      "(3870, 8)\n",
      "(3870,)\n",
      "(5160, 8)\n",
      "(5160,)\n"
     ]
    }
   ],
   "source": [
    "from sklearn.model_selection import train_test_split\n",
    "\n",
    "x_train_all, x_test, y_train_all, y_test = train_test_split(\n",
    "    housing.data, housing.target, random_state=1)\n",
    "x_train, x_valid, y_train, y_valid = train_test_split(\n",
    "    x_train_all, y_train_all, random_state=2)\n",
    "\n",
    "# 打印各个数据集的shape\n",
    "for data in x_train, y_train, x_valid, y_valid, x_test, y_test:\n",
    "    print(data.shape)"
   ]
  },
  {
   "cell_type": "markdown",
   "metadata": {},
   "source": [
    "## 数据归一化"
   ]
  },
  {
   "cell_type": "code",
   "execution_count": 61,
   "metadata": {
    "ExecuteTime": {
     "end_time": "2019-06-27T19:10:26.292917Z",
     "start_time": "2019-06-27T19:10:26.278416Z"
    }
   },
   "outputs": [],
   "source": [
    "from sklearn.preprocessing import StandardScaler\n",
    "\n",
    "scaler = StandardScaler()\n",
    "scaler.fit(housing.data)\n",
    "\n",
    "x_train_scaled = scaler.transform(x_train)\n",
    "x_valid_scaled = scaler.transform(x_valid)\n",
    "x_test_scaled = scaler.transform(x_test)"
   ]
  },
  {
   "cell_type": "markdown",
   "metadata": {},
   "source": [
    "## 构造模型"
   ]
  },
  {
   "cell_type": "code",
   "execution_count": 71,
   "metadata": {
    "ExecuteTime": {
     "end_time": "2019-06-27T19:12:41.421190Z",
     "start_time": "2019-06-27T19:12:41.356830Z"
    }
   },
   "outputs": [
    {
     "name": "stdout",
     "output_type": "stream",
     "text": [
      "Model: \"sequential_16\"\n",
      "_________________________________________________________________\n",
      "Layer (type)                 Output Shape              Param #   \n",
      "=================================================================\n",
      "dense_33 (Dense)             (None, 30)                270       \n",
      "_________________________________________________________________\n",
      "dense_34 (Dense)             (None, 1)                 31        \n",
      "=================================================================\n",
      "Total params: 301\n",
      "Trainable params: 301\n",
      "Non-trainable params: 0\n",
      "_________________________________________________________________\n"
     ]
    }
   ],
   "source": [
    "model = keras.models.Sequential([\n",
    "    keras.layers.Dense(30, activation='relu',\n",
    "                       input_shape=x_train.shape[1:]),  # 8\n",
    "    keras.layers.Dense(1)\n",
    "])\n",
    "\n",
    "model.summary()\n",
    "model.compile(loss='mean_squared_error', optimizer='sgd')\n",
    "callbacks = [keras.callbacks.EarlyStopping(patience=10, min_delta=1e-10)]"
   ]
  },
  {
   "cell_type": "markdown",
   "metadata": {
    "ExecuteTime": {
     "end_time": "2019-06-27T18:51:47.622844Z",
     "start_time": "2019-06-27T18:51:47.590849Z"
    }
   },
   "source": [
    "## 训练模型"
   ]
  },
  {
   "cell_type": "code",
   "execution_count": 72,
   "metadata": {
    "ExecuteTime": {
     "end_time": "2019-06-27T19:13:26.538846Z",
     "start_time": "2019-06-27T19:12:45.361186Z"
    }
   },
   "outputs": [
    {
     "name": "stdout",
     "output_type": "stream",
     "text": [
      "Train on 11610 samples, validate on 3870 samples\n",
      "Epoch 1/100\n",
      "11610/11610 [==============================] - 0s 41us/sample - loss: 0.9789 - val_loss: 0.5909\n",
      "Epoch 2/100\n",
      "11610/11610 [==============================] - 0s 33us/sample - loss: 0.7599 - val_loss: 0.5411\n",
      "Epoch 3/100\n",
      "11610/11610 [==============================] - 0s 33us/sample - loss: 0.4992 - val_loss: 0.4712\n",
      "Epoch 4/100\n",
      "11610/11610 [==============================] - 0s 32us/sample - loss: 0.4545 - val_loss: 0.4479\n",
      "Epoch 5/100\n",
      "11610/11610 [==============================] - 0s 31us/sample - loss: 0.4412 - val_loss: 0.4354\n",
      "Epoch 6/100\n",
      "11610/11610 [==============================] - 0s 32us/sample - loss: 0.4282 - val_loss: 0.4288\n",
      "Epoch 7/100\n",
      "11610/11610 [==============================] - 0s 31us/sample - loss: 0.4267 - val_loss: 0.4231\n",
      "Epoch 8/100\n",
      "11610/11610 [==============================] - 0s 32us/sample - loss: 0.4140 - val_loss: 0.4109\n",
      "Epoch 9/100\n",
      "11610/11610 [==============================] - 0s 34us/sample - loss: 0.4055 - val_loss: 0.4078\n",
      "Epoch 10/100\n",
      "11610/11610 [==============================] - 0s 32us/sample - loss: 0.4006 - val_loss: 0.4077\n",
      "Epoch 11/100\n",
      "11610/11610 [==============================] - 0s 33us/sample - loss: 0.4058 - val_loss: 0.3965\n",
      "Epoch 12/100\n",
      "11610/11610 [==============================] - 0s 34us/sample - loss: 0.3938 - val_loss: 0.3966\n",
      "Epoch 13/100\n",
      "11610/11610 [==============================] - 0s 32us/sample - loss: 0.3914 - val_loss: 0.3955\n",
      "Epoch 14/100\n",
      "11610/11610 [==============================] - 0s 32us/sample - loss: 0.3858 - val_loss: 0.3938\n",
      "Epoch 15/100\n",
      "11610/11610 [==============================] - 0s 31us/sample - loss: 0.3868 - val_loss: 0.3897\n",
      "Epoch 16/100\n",
      "11610/11610 [==============================] - 0s 31us/sample - loss: 0.3848 - val_loss: 0.3855\n",
      "Epoch 17/100\n",
      "11610/11610 [==============================] - 0s 32us/sample - loss: 0.3801 - val_loss: 0.3853\n",
      "Epoch 18/100\n",
      "11610/11610 [==============================] - 0s 31us/sample - loss: 0.3774 - val_loss: 0.3840\n",
      "Epoch 19/100\n",
      "11610/11610 [==============================] - 0s 31us/sample - loss: 0.3768 - val_loss: 0.3848\n",
      "Epoch 20/100\n",
      "11610/11610 [==============================] - 0s 32us/sample - loss: 0.3738 - val_loss: 0.3842\n",
      "Epoch 21/100\n",
      "11610/11610 [==============================] - 0s 31us/sample - loss: 0.3761 - val_loss: 0.3784\n",
      "Epoch 22/100\n",
      "11610/11610 [==============================] - 0s 32us/sample - loss: 0.3709 - val_loss: 0.3744\n",
      "Epoch 23/100\n",
      "11610/11610 [==============================] - 0s 32us/sample - loss: 0.3951 - val_loss: 0.3749\n",
      "Epoch 24/100\n",
      "11610/11610 [==============================] - 0s 32us/sample - loss: 0.3707 - val_loss: 0.3746\n",
      "Epoch 25/100\n",
      "11610/11610 [==============================] - 0s 33us/sample - loss: 0.3654 - val_loss: 0.3743\n",
      "Epoch 26/100\n",
      "11610/11610 [==============================] - 0s 32us/sample - loss: 0.3675 - val_loss: 0.3753\n",
      "Epoch 27/100\n",
      "11610/11610 [==============================] - 0s 32us/sample - loss: 0.3651 - val_loss: 0.3686\n",
      "Epoch 28/100\n",
      "11610/11610 [==============================] - 0s 33us/sample - loss: 0.3614 - val_loss: 0.3655\n",
      "Epoch 29/100\n",
      "11610/11610 [==============================] - 0s 33us/sample - loss: 0.3603 - val_loss: 0.3853\n",
      "Epoch 30/100\n",
      "11610/11610 [==============================] - 0s 38us/sample - loss: 0.3599 - val_loss: 0.3722\n",
      "Epoch 31/100\n",
      "11610/11610 [==============================] - 0s 32us/sample - loss: 0.3586 - val_loss: 0.3689\n",
      "Epoch 32/100\n",
      "11610/11610 [==============================] - 0s 33us/sample - loss: 0.3572 - val_loss: 0.3676\n",
      "Epoch 33/100\n",
      "11610/11610 [==============================] - 0s 34us/sample - loss: 0.3742 - val_loss: 0.3613\n",
      "Epoch 34/100\n",
      "11610/11610 [==============================] - 0s 33us/sample - loss: 0.3747 - val_loss: 0.3649\n",
      "Epoch 35/100\n",
      "11610/11610 [==============================] - 0s 35us/sample - loss: 0.3570 - val_loss: 0.3618\n",
      "Epoch 36/100\n",
      "11610/11610 [==============================] - 0s 32us/sample - loss: 0.3544 - val_loss: 0.3637\n",
      "Epoch 37/100\n",
      "11610/11610 [==============================] - 0s 32us/sample - loss: 0.3520 - val_loss: 0.3645\n",
      "Epoch 38/100\n",
      "11610/11610 [==============================] - 0s 33us/sample - loss: 0.3518 - val_loss: 0.3548\n",
      "Epoch 39/100\n",
      "11610/11610 [==============================] - 0s 32us/sample - loss: 0.3513 - val_loss: 0.3610\n",
      "Epoch 40/100\n",
      "11610/11610 [==============================] - 0s 39us/sample - loss: 0.3502 - val_loss: 0.3538\n",
      "Epoch 41/100\n",
      "11610/11610 [==============================] - 1s 44us/sample - loss: 0.3470 - val_loss: 0.3512\n",
      "Epoch 42/100\n",
      "11610/11610 [==============================] - 0s 36us/sample - loss: 0.3521 - val_loss: 0.3566\n",
      "Epoch 43/100\n",
      "11610/11610 [==============================] - 0s 38us/sample - loss: 0.3465 - val_loss: 0.3495\n",
      "Epoch 44/100\n",
      "11610/11610 [==============================] - 0s 36us/sample - loss: 0.3460 - val_loss: 0.3512\n",
      "Epoch 45/100\n",
      "11610/11610 [==============================] - 0s 42us/sample - loss: 0.3440 - val_loss: 0.3542\n",
      "Epoch 46/100\n",
      "11610/11610 [==============================] - 0s 41us/sample - loss: 0.3439 - val_loss: 0.3526\n",
      "Epoch 47/100\n",
      "11610/11610 [==============================] - 0s 39us/sample - loss: 0.3427 - val_loss: 0.3448\n",
      "Epoch 48/100\n",
      "11610/11610 [==============================] - 0s 34us/sample - loss: 0.3428 - val_loss: 0.3473\n",
      "Epoch 49/100\n",
      "11610/11610 [==============================] - 0s 37us/sample - loss: 0.3421 - val_loss: 0.3483\n",
      "Epoch 50/100\n",
      "11610/11610 [==============================] - 0s 36us/sample - loss: 0.3399 - val_loss: 0.3479\n",
      "Epoch 51/100\n",
      "11610/11610 [==============================] - 0s 38us/sample - loss: 0.3411 - val_loss: 0.3455\n",
      "Epoch 52/100\n",
      "11610/11610 [==============================] - 0s 36us/sample - loss: 0.3392 - val_loss: 0.3485\n",
      "Epoch 53/100\n",
      "11610/11610 [==============================] - 0s 35us/sample - loss: 0.3408 - val_loss: 0.3430\n",
      "Epoch 54/100\n",
      "11610/11610 [==============================] - 0s 35us/sample - loss: 0.3385 - val_loss: 0.3425\n",
      "Epoch 55/100\n",
      "11610/11610 [==============================] - 0s 35us/sample - loss: 0.3370 - val_loss: 0.3403\n",
      "Epoch 56/100\n",
      "11610/11610 [==============================] - 0s 34us/sample - loss: 0.3362 - val_loss: 0.3434\n",
      "Epoch 57/100\n",
      "11610/11610 [==============================] - 0s 36us/sample - loss: 0.3394 - val_loss: 0.3413\n",
      "Epoch 58/100\n",
      "11610/11610 [==============================] - 0s 36us/sample - loss: 0.3378 - val_loss: 0.3427\n",
      "Epoch 59/100\n",
      "11610/11610 [==============================] - 0s 36us/sample - loss: 0.3353 - val_loss: 0.3422\n",
      "Epoch 60/100\n",
      "11610/11610 [==============================] - 0s 35us/sample - loss: 0.3331 - val_loss: 0.3372\n",
      "Epoch 61/100\n",
      "11610/11610 [==============================] - 0s 37us/sample - loss: 0.3338 - val_loss: 0.3415\n",
      "Epoch 62/100\n",
      "11610/11610 [==============================] - 0s 36us/sample - loss: 0.3321 - val_loss: 0.3410\n",
      "Epoch 63/100\n",
      "11610/11610 [==============================] - 0s 35us/sample - loss: 0.3371 - val_loss: 0.3413\n",
      "Epoch 64/100\n",
      "11610/11610 [==============================] - 0s 41us/sample - loss: 0.3315 - val_loss: 0.3363\n",
      "Epoch 65/100\n",
      "11610/11610 [==============================] - 0s 34us/sample - loss: 0.3301 - val_loss: 0.3392\n",
      "Epoch 66/100\n",
      "11610/11610 [==============================] - 0s 35us/sample - loss: 0.3284 - val_loss: 0.3345\n",
      "Epoch 67/100\n",
      "11610/11610 [==============================] - 0s 36us/sample - loss: 0.3288 - val_loss: 0.3375\n",
      "Epoch 68/100\n",
      "11610/11610 [==============================] - 0s 34us/sample - loss: 0.3291 - val_loss: 0.3412\n",
      "Epoch 69/100\n",
      "11610/11610 [==============================] - 0s 35us/sample - loss: 0.3372 - val_loss: 0.3335\n",
      "Epoch 70/100\n",
      "11610/11610 [==============================] - 0s 35us/sample - loss: 0.3263 - val_loss: 0.3428\n",
      "Epoch 71/100\n",
      "11610/11610 [==============================] - 0s 35us/sample - loss: 0.3251 - val_loss: 0.3333\n",
      "Epoch 72/100\n",
      "11610/11610 [==============================] - 0s 31us/sample - loss: 0.3249 - val_loss: 0.3317\n",
      "Epoch 73/100\n",
      "11610/11610 [==============================] - 0s 33us/sample - loss: 0.3251 - val_loss: 0.3291\n",
      "Epoch 74/100\n",
      "11610/11610 [==============================] - 0s 35us/sample - loss: 0.3234 - val_loss: 0.3365\n",
      "Epoch 75/100\n",
      "11610/11610 [==============================] - 0s 37us/sample - loss: 0.3229 - val_loss: 0.3409\n"
     ]
    },
    {
     "name": "stdout",
     "output_type": "stream",
     "text": [
      "Epoch 76/100\n",
      "11610/11610 [==============================] - 0s 38us/sample - loss: 0.3214 - val_loss: 0.3315\n",
      "Epoch 77/100\n",
      "11610/11610 [==============================] - 0s 37us/sample - loss: 0.3223 - val_loss: 0.3384\n",
      "Epoch 78/100\n",
      "11610/11610 [==============================] - 0s 37us/sample - loss: 0.3220 - val_loss: 0.3345\n",
      "Epoch 79/100\n",
      "11610/11610 [==============================] - 0s 36us/sample - loss: 0.3213 - val_loss: 0.3279\n",
      "Epoch 80/100\n",
      "11610/11610 [==============================] - 0s 36us/sample - loss: 0.3213 - val_loss: 0.3361\n",
      "Epoch 81/100\n",
      "11610/11610 [==============================] - 0s 36us/sample - loss: 0.3208 - val_loss: 0.3335\n",
      "Epoch 82/100\n",
      "11610/11610 [==============================] - 0s 37us/sample - loss: 0.3199 - val_loss: 0.3273\n",
      "Epoch 83/100\n",
      "11610/11610 [==============================] - 0s 36us/sample - loss: 0.3196 - val_loss: 0.3277\n",
      "Epoch 84/100\n",
      "11610/11610 [==============================] - 0s 34us/sample - loss: 0.3188 - val_loss: 0.3254\n",
      "Epoch 85/100\n",
      "11610/11610 [==============================] - 0s 34us/sample - loss: 0.3194 - val_loss: 0.3273\n",
      "Epoch 86/100\n",
      "11610/11610 [==============================] - 0s 37us/sample - loss: 0.3172 - val_loss: 0.3335: 0s - loss: 0.318\n",
      "Epoch 87/100\n",
      "11610/11610 [==============================] - 0s 41us/sample - loss: 0.3183 - val_loss: 0.3268\n",
      "Epoch 88/100\n",
      "11610/11610 [==============================] - 0s 38us/sample - loss: 0.3188 - val_loss: 0.3230\n",
      "Epoch 89/100\n",
      "11610/11610 [==============================] - 0s 35us/sample - loss: 0.3163 - val_loss: 0.3284\n",
      "Epoch 90/100\n",
      "11610/11610 [==============================] - 0s 35us/sample - loss: 0.3150 - val_loss: 0.3316\n",
      "Epoch 91/100\n",
      "11610/11610 [==============================] - 0s 36us/sample - loss: 0.3208 - val_loss: 0.3276\n",
      "Epoch 92/100\n",
      "11610/11610 [==============================] - 0s 38us/sample - loss: 0.3170 - val_loss: 0.3347\n",
      "Epoch 93/100\n",
      "11610/11610 [==============================] - 0s 34us/sample - loss: 0.3167 - val_loss: 0.3244\n",
      "Epoch 94/100\n",
      "11610/11610 [==============================] - 0s 38us/sample - loss: 0.3292 - val_loss: 0.3427\n",
      "Epoch 95/100\n",
      "11610/11610 [==============================] - 0s 37us/sample - loss: 0.3303 - val_loss: 0.3308\n",
      "Epoch 96/100\n",
      "11610/11610 [==============================] - 0s 35us/sample - loss: 0.3154 - val_loss: 0.3214\n",
      "Epoch 97/100\n",
      "11610/11610 [==============================] - 0s 38us/sample - loss: 0.3134 - val_loss: 0.3249\n",
      "Epoch 98/100\n",
      "11610/11610 [==============================] - 0s 38us/sample - loss: 0.3146 - val_loss: 0.3237\n",
      "Epoch 99/100\n",
      "11610/11610 [==============================] - 0s 38us/sample - loss: 0.3129 - val_loss: 0.3250\n",
      "Epoch 100/100\n",
      "11610/11610 [==============================] - 0s 37us/sample - loss: 0.3138 - val_loss: 0.3229\n"
     ]
    }
   ],
   "source": [
    "history = model.fit(x_train_scaled, y_train, epochs=100, validation_data=(\n",
    "    x_valid_scaled, y_valid), callbacks=callbacks)"
   ]
  },
  {
   "cell_type": "markdown",
   "metadata": {},
   "source": [
    "## 显示学习曲线图像"
   ]
  },
  {
   "cell_type": "code",
   "execution_count": 73,
   "metadata": {
    "ExecuteTime": {
     "end_time": "2019-06-27T19:13:31.736448Z",
     "start_time": "2019-06-27T19:13:31.427398Z"
    }
   },
   "outputs": [
    {
     "data": {
      "image/png": "[encoded data removed]",
      "text/plain": [
       "<Figure size 576x360 with 1 Axes>"
      ]
     },
     "metadata": {
      "needs_background": "light"
     },
     "output_type": "display_data"
    }
   ],
   "source": [
    "def plot_learning_curve(history):\n",
    "    pd.DataFrame(history.history).plot(figsize=(8, 5))\n",
    "    plt.grid(True)\n",
    "    plt.gca().set_ylim(0, 1)\n",
    "    plt.show()\n",
    "    \n",
    "plot_learning_curve(history)    "
   ]
  },
  {
   "cell_type": "code",
   "execution_count": 74,
   "metadata": {
    "ExecuteTime": {
     "end_time": "2019-06-27T19:13:32.699639Z",
     "start_time": "2019-06-27T19:13:32.603507Z"
    }
   },
   "outputs": [
    {
     "name": "stdout",
     "output_type": "stream",
     "text": [
      "5160/5160 [==============================] - 0s 17us/sample - loss: 0.3391\n"
     ]
    },
    {
     "data": {
      "text/plain": [
       "0.3390780981889991"
      ]
     },
     "execution_count": 74,
     "metadata": {},
     "output_type": "execute_result"
    }
   ],
   "source": [
    "model.evaluate(x_test_scaled,y_test)"
   ]
  }
 ],
 "metadata": {
  "kernelspec": {
   "display_name": "Python 3",
   "language": "python",
   "name": "python3"
  },
  "language_info": {
   "codemirror_mode": {
    "name": "ipython",
    "version": 3
   },
   "file_extension": ".py",
   "mimetype": "text/x-python",
   "name": "python",
   "nbconvert_exporter": "python",
   "pygments_lexer": "ipython3",
   "version": "3.6.8"
  },
  "toc": {
   "base_numbering": 1,
   "nav_menu": {},
   "number_sections": true,
   "sideBar": true,
   "skip_h1_title": false,
   "title_cell": "Table of Contents",
   "title_sidebar": "Contents",
   "toc_cell": false,
   "toc_position": {},
   "toc_section_display": true,
   "toc_window_display": false
  }
 },
 "nbformat": 4,
 "nbformat_minor": 2
}
