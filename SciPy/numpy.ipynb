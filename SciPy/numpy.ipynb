{
 "cells": [
  {
   "cell_type": "markdown",
   "metadata": {},
   "source": [
    "\n",
    "<font color =#0984e3  size = 10 face=\"Verdana\">\n",
    "Numpy\n",
    "    </font>\n",
    "    <font color =#2d3436  size = 3>\n",
    " <br><br>-为Python提供强大的数组 与 向量运算\n",
    "        </font>\n"
   ]
  },
  {
   "cell_type": "code",
   "execution_count": 1,
   "metadata": {},
   "outputs": [],
   "source": [
    "import numpy as np"
   ]
  },
  {
   "cell_type": "markdown",
   "metadata": {},
   "source": [
    "#### 将python内置的list转换为**numpy array**"
   ]
  },
  {
   "cell_type": "code",
   "execution_count": 2,
   "metadata": {},
   "outputs": [
    {
     "name": "stdout",
     "output_type": "stream",
     "text": [
      "[1, 2, 3]\n",
      "<class 'list'>\n"
     ]
    }
   ],
   "source": [
    "py_arr = [1,2,3]\n",
    "print(py_arr)\n",
    "print(type(py_arr))"
   ]
  },
  {
   "cell_type": "code",
   "execution_count": 3,
   "metadata": {},
   "outputs": [
    {
     "name": "stdout",
     "output_type": "stream",
     "text": [
      "[1 2 3]\n",
      "<class 'numpy.ndarray'>\n",
      "<class 'numpy.int32'>\n"
     ]
    }
   ],
   "source": [
    "np_arr = np.array(py_arr)\n",
    "#打印numpy arr\n",
    "print(np_arr)\n",
    "#查看numpy arr的类型\n",
    "print(type(np_arr))\n",
    "#查看numpy arr里元素的类型\n",
    "print(type(np_arr[0]))"
   ]
  },
  {
   "cell_type": "markdown",
   "metadata": {},
   "source": [
    "## dtype  \n",
    "在创建numpy array的时候可以多添加一个参数，如下  \n",
    "```py\n",
    "np_arr = np.array(py_arr, dtype = np.float64)\n",
    "```\n"
   ]
  },
  {
   "cell_type": "code",
   "execution_count": 4,
   "metadata": {},
   "outputs": [
    {
     "name": "stdout",
     "output_type": "stream",
     "text": [
      "[1. 2. 3.]\n",
      "<class 'numpy.ndarray'>\n",
      "<class 'numpy.float64'>\n"
     ]
    }
   ],
   "source": [
    "np_arr = np.array(py_arr, dtype = np.float64)\n",
    "#打印numpy arr\n",
    "print(np_arr)\n",
    "#查看numpy arr的类型\n",
    "print(type(np_arr))\n",
    "#查看numpy arr里元素的类型\n",
    "print(type(np_arr[0]))\n",
    "\n"
   ]
  },
  {
   "cell_type": "markdown",
   "metadata": {},
   "source": [
    "<div style='background-color:  #c8d6e5'>\n",
    "    <br>\n",
    "    </div>"
   ]
  },
  {
   "cell_type": "code",
   "execution_count": 5,
   "metadata": {},
   "outputs": [
    {
     "data": {
      "text/plain": [
       "array([1, 2, 3])"
      ]
     },
     "execution_count": 5,
     "metadata": {},
     "output_type": "execute_result"
    }
   ],
   "source": [
    "#也可以转换tuple\n",
    "np.array((1,2,3))"
   ]
  },
  {
   "cell_type": "markdown",
   "metadata": {},
   "source": [
    "- numpy array中只能储存相同类型的元素\n",
    "\n",
    "```\n",
    "np.array([1,2,3,4,True,False])\n",
    "np.array([1,2,3,'numpy'])\n",
    "```\n",
    "布尔True = 1\n",
    "布尔False = 0"
   ]
  },
  {
   "cell_type": "code",
   "execution_count": 6,
   "metadata": {},
   "outputs": [
    {
     "data": {
      "text/plain": [
       "array([1, 2, 3, 4, 1, 0])"
      ]
     },
     "execution_count": 6,
     "metadata": {},
     "output_type": "execute_result"
    }
   ],
   "source": [
    "np.array([1,2,3,4,True,False])"
   ]
  },
  {
   "cell_type": "markdown",
   "metadata": {},
   "source": [
    "#### 因为出现了String类型， 所以numpy数组中所有元素类型全部变成了String"
   ]
  },
  {
   "cell_type": "code",
   "execution_count": 7,
   "metadata": {},
   "outputs": [
    {
     "data": {
      "text/plain": [
       "array(['1', '2', '3', 'numpy', 'True'], dtype='<U11')"
      ]
     },
     "execution_count": 7,
     "metadata": {},
     "output_type": "execute_result"
    }
   ],
   "source": [
    "np.array([1,2,3,'numpy',True])"
   ]
  },
  {
   "cell_type": "markdown",
   "metadata": {},
   "source": [
    "<div style='background-color: #c8d6e5'>\n",
    "    <br>\n",
    "    </div>\n",
    "    \n",
    "    \n",
    "### numpy的一些基本函数\n",
    "\n",
    "*Note:*   \n",
    "可以在结尾处 加入参数  \n",
    "`dtype = np.float`   \n",
    "来指定array的类型"
   ]
  },
  {
   "cell_type": "code",
   "execution_count": 8,
   "metadata": {},
   "outputs": [
    {
     "data": {
      "text/plain": [
       "array([[0.],\n",
       "       [0.],\n",
       "       [0.],\n",
       "       [0.],\n",
       "       [0.]])"
      ]
     },
     "execution_count": 8,
     "metadata": {},
     "output_type": "execute_result"
    }
   ],
   "source": [
    "#生成5 row 1  column的 o\n",
    "np.zeros((5,1)) "
   ]
  },
  {
   "cell_type": "code",
   "execution_count": 9,
   "metadata": {},
   "outputs": [
    {
     "data": {
      "text/plain": [
       "array([[1, 1],\n",
       "       [1, 1],\n",
       "       [1, 1]])"
      ]
     },
     "execution_count": 9,
     "metadata": {},
     "output_type": "execute_result"
    }
   ],
   "source": [
    "#生成 3 row, 2 column的1\n",
    "np.ones((3,2), dtype=np.int) "
   ]
  },
  {
   "cell_type": "code",
   "execution_count": 10,
   "metadata": {
    "scrolled": true
   },
   "outputs": [
    {
     "data": {
      "text/plain": [
       "array([[3, 3, 3],\n",
       "       [3, 3, 3],\n",
       "       [3, 3, 3],\n",
       "       [3, 3, 3],\n",
       "       [3, 3, 3]])"
      ]
     },
     "execution_count": 10,
     "metadata": {},
     "output_type": "execute_result"
    }
   ],
   "source": [
    "# 生成 5 row, 3 column的3\n",
    "np.tile(3,(5,3))"
   ]
  },
  {
   "cell_type": "code",
   "execution_count": 11,
   "metadata": {},
   "outputs": [
    {
     "data": {
      "text/plain": [
       "array([[0, 1, 2, 3, 4, 5, 6, 7, 8, 9],\n",
       "       [0, 1, 2, 3, 4, 5, 6, 7, 8, 9],\n",
       "       [0, 1, 2, 3, 4, 5, 6, 7, 8, 9]])"
      ]
     },
     "execution_count": 11,
     "metadata": {},
     "output_type": "execute_result"
    }
   ],
   "source": [
    "np.tile(np.arange(10), (3,1))"
   ]
  },
  {
   "cell_type": "code",
   "execution_count": 12,
   "metadata": {},
   "outputs": [
    {
     "data": {
      "text/plain": [
       "array([5, 5, 5, 5, 6, 6, 6, 6])"
      ]
     },
     "execution_count": 12,
     "metadata": {},
     "output_type": "execute_result"
    }
   ],
   "source": [
    "#重复 array  或 tuple中的元素进行重复\n",
    "np.repeat((5, 6),4)"
   ]
  },
  {
   "cell_type": "markdown",
   "metadata": {},
   "source": [
    "---"
   ]
  },
  {
   "cell_type": "code",
   "execution_count": 13,
   "metadata": {},
   "outputs": [
    {
     "data": {
      "text/plain": [
       "array([0, 1, 2, 3, 4, 5, 6, 7, 8, 9])"
      ]
     },
     "execution_count": 13,
     "metadata": {},
     "output_type": "execute_result"
    }
   ],
   "source": [
    "#从0开始 总共生成10个数\n",
    "np.arange(10)"
   ]
  },
  {
   "cell_type": "code",
   "execution_count": 14,
   "metadata": {},
   "outputs": [
    {
     "data": {
      "text/plain": [
       "array([1.        , 1.44444444, 1.88888889, 2.33333333, 2.77777778,\n",
       "       3.22222222, 3.66666667, 4.11111111, 4.55555556, 5.        ])"
      ]
     },
     "execution_count": 14,
     "metadata": {},
     "output_type": "execute_result"
    }
   ],
   "source": [
    "#从1 到 5 之前取10个数\n",
    "np.linspace(1, 5, 10)"
   ]
  },
  {
   "cell_type": "markdown",
   "metadata": {},
   "source": [
    "#### 可以通过`np.matrix('1, 2 ; 3, 4')`  来创建矩阵\n",
    "\n"
   ]
  },
  {
   "cell_type": "code",
   "execution_count": 15,
   "metadata": {},
   "outputs": [
    {
     "data": {
      "text/plain": [
       "matrix([[1, 2],\n",
       "        [3, 4]])"
      ]
     },
     "execution_count": 15,
     "metadata": {},
     "output_type": "execute_result"
    }
   ],
   "source": [
    "np.matrix('1,2;3,4')"
   ]
  },
  {
   "cell_type": "markdown",
   "metadata": {},
   "source": [
    "\n",
    "但是一般不使用这种方法， 通常情况下还是使用  \n",
    "`np.array([[1,2],[3,4]])`  \n",
    "这种方法  \n",
    "你也可以使用  \n",
    "`np.array([1,2,3,4]).reshape(2,2)`  \n",
    "来达到同样的效果\n",
    "\n",
    "************\n",
    "<div style= 'background-color:PapayaWhip'>\n",
    "<font color =LightCoral size = 3>并不知道有什么卵用的代码,<br>建议直接无视</font>\n",
    "</div>"
   ]
  },
  {
   "cell_type": "code",
   "execution_count": 16,
   "metadata": {},
   "outputs": [],
   "source": [
    "x = np.array([('a' , 0.8), ('b', 0.2),('c', 0.3)], dtype=[('label', 'a8'), ('prob', 'f8')])"
   ]
  },
  {
   "cell_type": "code",
   "execution_count": 17,
   "metadata": {},
   "outputs": [
    {
     "data": {
      "text/plain": [
       "array([b'a', b'b', b'c'], dtype='|S8')"
      ]
     },
     "execution_count": 17,
     "metadata": {},
     "output_type": "execute_result"
    }
   ],
   "source": [
    "x['label']"
   ]
  },
  {
   "cell_type": "code",
   "execution_count": 18,
   "metadata": {},
   "outputs": [
    {
     "data": {
      "text/plain": [
       "array([0.8, 0.2, 0.3])"
      ]
     },
     "execution_count": 18,
     "metadata": {},
     "output_type": "execute_result"
    }
   ],
   "source": [
    "x['prob']"
   ]
  },
  {
   "cell_type": "markdown",
   "metadata": {},
   "source": [
    "<div style='background-color: PapayaWhip'>\n",
    "    <font size=4 color = #222f3e>=============================================================================================\n",
    "        </font>\n",
    "</div>\n",
    "\n"
   ]
  },
  {
   "cell_type": "markdown",
   "metadata": {},
   "source": [
    "<div style=\"background-color:#ecf0f1;\">\n",
    " <font color = #2c3e50 size = 5 face=\"Verdana\">\n",
    "     <br>\n",
    "     Numpy的运算(intro)\n",
    "     <br>\n",
    "     <br>\n",
    "    </font>\n",
    "</div>"
   ]
  },
  {
   "cell_type": "markdown",
   "metadata": {},
   "source": [
    "#### Numpy多维运算支持broadcasting!\n",
    "- 两者的shape必须相同\n",
    "- 或者其中一者 shape是 **1**\n"
   ]
  },
  {
   "cell_type": "code",
   "execution_count": 19,
   "metadata": {},
   "outputs": [],
   "source": [
    "a = np.array([2,4,6])\n",
    "b = np.array([8,10,12])"
   ]
  },
  {
   "cell_type": "code",
   "execution_count": 20,
   "metadata": {},
   "outputs": [
    {
     "data": {
      "text/plain": [
       "array([10, 14, 18])"
      ]
     },
     "execution_count": 20,
     "metadata": {},
     "output_type": "execute_result"
    }
   ],
   "source": [
    "a+b"
   ]
  },
  {
   "cell_type": "code",
   "execution_count": 21,
   "metadata": {},
   "outputs": [
    {
     "data": {
      "text/plain": [
       "array([3, 5, 7])"
      ]
     },
     "execution_count": 21,
     "metadata": {},
     "output_type": "execute_result"
    }
   ],
   "source": [
    "a+1"
   ]
  },
  {
   "cell_type": "code",
   "execution_count": 22,
   "metadata": {},
   "outputs": [
    {
     "data": {
      "text/plain": [
       "array([16, 40, 72])"
      ]
     },
     "execution_count": 22,
     "metadata": {},
     "output_type": "execute_result"
    }
   ],
   "source": [
    "a*b"
   ]
  },
  {
   "cell_type": "code",
   "execution_count": 23,
   "metadata": {},
   "outputs": [
    {
     "data": {
      "text/plain": [
       "array([-3, -5, -7])"
      ]
     },
     "execution_count": 23,
     "metadata": {},
     "output_type": "execute_result"
    }
   ],
   "source": [
    "5 -b"
   ]
  },
  {
   "cell_type": "code",
   "execution_count": 24,
   "metadata": {},
   "outputs": [],
   "source": [
    "a = np.arange(20).reshape(20,1)\n",
    "b = np.arange(100).reshape(20,5)"
   ]
  },
  {
   "cell_type": "markdown",
   "metadata": {},
   "source": [
    "<div style= \"background-color: #f1f2f6;\">\n",
    "<font size = 3 face= face='Verdana'>首先它们row是相等的都是20 <br>然后其中有一列是1\n",
    "</div>"
   ]
  },
  {
   "cell_type": "code",
   "execution_count": 25,
   "metadata": {},
   "outputs": [
    {
     "data": {
      "text/plain": [
       "array([[  0,   1,   2,   3,   4],\n",
       "       [  6,   7,   8,   9,  10],\n",
       "       [ 12,  13,  14,  15,  16],\n",
       "       [ 18,  19,  20,  21,  22],\n",
       "       [ 24,  25,  26,  27,  28],\n",
       "       [ 30,  31,  32,  33,  34],\n",
       "       [ 36,  37,  38,  39,  40],\n",
       "       [ 42,  43,  44,  45,  46],\n",
       "       [ 48,  49,  50,  51,  52],\n",
       "       [ 54,  55,  56,  57,  58],\n",
       "       [ 60,  61,  62,  63,  64],\n",
       "       [ 66,  67,  68,  69,  70],\n",
       "       [ 72,  73,  74,  75,  76],\n",
       "       [ 78,  79,  80,  81,  82],\n",
       "       [ 84,  85,  86,  87,  88],\n",
       "       [ 90,  91,  92,  93,  94],\n",
       "       [ 96,  97,  98,  99, 100],\n",
       "       [102, 103, 104, 105, 106],\n",
       "       [108, 109, 110, 111, 112],\n",
       "       [114, 115, 116, 117, 118]])"
      ]
     },
     "execution_count": 25,
     "metadata": {},
     "output_type": "execute_result"
    }
   ],
   "source": [
    "a + b"
   ]
  },
  {
   "cell_type": "markdown",
   "metadata": {},
   "source": [
    "<font size = 4 color=#2f3542 face=\"黑体\">下方代码原理一样 要么是相等 要么两者其中有一个是1所以可以相加<br>\n",
    "</font>\n",
    "```py\n",
    "a = np.ones((9,8,1,3,3))\n",
    "b = np.ones((1,8,9,1,3))\n",
    "```\n"
   ]
  },
  {
   "cell_type": "markdown",
   "metadata": {},
   "source": [
    "<div style=\"background-color:#ecf0f1;\">\n",
    " <font color = #2c3e50 size = 5 face=\"Verdana\">\n",
    "     <br>\n",
    "     Numpy Array的切片\n",
    "     <br>\n",
    "     <br>\n",
    "    </font>\n",
    "</div>"
   ]
  },
  {
   "cell_type": "markdown",
   "metadata": {},
   "source": [
    "*为了方便观察我为下面两个array分别加了`3` 和 `5`*"
   ]
  },
  {
   "cell_type": "code",
   "execution_count": 26,
   "metadata": {},
   "outputs": [],
   "source": [
    "a = np.arange(20).reshape(20,1)+3\n",
    "b = np.arange(100).reshape(20,5)+5"
   ]
  },
  {
   "cell_type": "markdown",
   "metadata": {},
   "source": [
    "\n",
    "```py\n",
    "a.shape\n",
    ">>>(20,1)\n",
    "\n",
    "b.shape\n",
    ">>>(20,5)\n",
    "```\n",
    "\n",
    "- 可以像普通list 或者tuple一样通过索引获取其中的一个值"
   ]
  },
  {
   "cell_type": "code",
   "execution_count": 27,
   "metadata": {},
   "outputs": [
    {
     "name": "stdout",
     "output_type": "stream",
     "text": [
      "a里的第6个数是:  [8]\n"
     ]
    }
   ],
   "source": [
    "print(\"a里的第6个数是: \",a[5])"
   ]
  },
  {
   "cell_type": "markdown",
   "metadata": {},
   "source": [
    "#### 为什么这里打印出来的还是一个list呢\n",
    "\n",
    "因为`a`是一个二维的array\n",
    "通过 `.ndim`来查看这是一个几维数组\n",
    "\n",
    "\n",
    "```py\n",
    "print(a.ndim,\"dimentions\")\n",
    ">>> 2 dimentions\n",
    "```\n",
    "\n",
    "\n",
    "这时如果我们把a 变成**一维**的话一切就正常了"
   ]
  },
  {
   "cell_type": "code",
   "execution_count": 28,
   "metadata": {},
   "outputs": [],
   "source": [
    "#降维打击\n",
    "new_a1 = a.reshape(20) #方法1\n",
    "new_a2 = a.flatten() #方法2"
   ]
  },
  {
   "cell_type": "markdown",
   "metadata": {},
   "source": [
    "<font size = 3 color = #ee5253 face = '黑体'>两个方法的结果都是相同</font>\n",
    "- 这个方法是对比的所有元素\n",
    "```py\n",
    "new_a1 == new_a2\n",
    ">>> array([ True,  True,  True,  True,  True,  True,  True,  True,  True,\n",
    "        True,  True,  True,  True,  True,  True,  True,  True,  True,\n",
    "        True,  True])\n",
    "```\n",
    "\n",
    "- `.all()`这个方法是对比整体\n",
    "```py\n",
    "new_a1.all() == new_a2.all()\n",
    ">>> True\n",
    "```\n",
    "\n",
    "- `.any()`的意思是只有两者中有一个相等的话就直接返回`True`\n",
    "```py\n",
    "new_a1.any() == new_a2.any()\n",
    ">>> True\n",
    "```"
   ]
  },
  {
   "cell_type": "markdown",
   "metadata": {},
   "source": [
    "------------------\n",
    "\n",
    "### 但是每次这样做太麻烦了\n",
    "多维数组的索引是这样的, 就拿`b`作为例子  <br>\n",
    "#### 首先用`reshape()`把`b`变成一个三维 *tensor*  方便讲解\n",
    "`new_b = b.reshape(5,5,4)`  \n",
    "\n",
    "注意观察 \n",
    "1. b 的原始shape 是`(20,5)`\n",
    "<br>$20*5=100$\n",
    "2. new_b的shape是`(5,5,4)` \n",
    "<br>$5 * 5 * 4 =100$  \n",
    "\n",
    "<font size=3 color = #ee5253>tuple内的元素的乘积必须要相等 才能reshape</font>"
   ]
  },
  {
   "cell_type": "markdown",
   "metadata": {},
   "source": [
    "<font size=3 color =#273c75 >顺便提一个概念 <br>所有操作的前提是这个object是个numpy array<br><br>\n",
    "    `1`这是一个*scalar*<br>\n",
    "    `[1]`这是一个*vector*<br>\n",
    "    `[[1]]`但是这样就是一个matrix了 不过只有1row<br>\n",
    "    `[ [1] , [1] ]`这是一个*matrix*<br></font>\n",
    "    \n",
    "这个是一个**3D tensor**\n",
    "```py\n",
    "[[[1., 1.],\n",
    "  [1., 1.]],\n",
    " [[1., 1.],\n",
    "  [1., 1.]]]\n",
    "```\n",
    "*************"
   ]
  },
  {
   "cell_type": "code",
   "execution_count": 29,
   "metadata": {},
   "outputs": [
    {
     "name": "stdout",
     "output_type": "stream",
     "text": [
      "[[[  5   6   7   8]\n",
      "  [  9  10  11  12]\n",
      "  [ 13  14  15  16]\n",
      "  [ 17  18  19  20]\n",
      "  [ 21  22  23  24]]\n",
      "\n",
      " [[ 25  26  27  28]\n",
      "  [ 29  30  31  32]\n",
      "  [ 33  34  35  36]\n",
      "  [ 37  38  39  40]\n",
      "  [ 41  42  43  44]]\n",
      "\n",
      " [[ 45  46  47  48]\n",
      "  [ 49  50  51  52]\n",
      "  [ 53  54  55  56]\n",
      "  [ 57  58  59  60]\n",
      "  [ 61  62  63  64]]\n",
      "\n",
      " [[ 65  66  67  68]\n",
      "  [ 69  70  71  72]\n",
      "  [ 73  74  75  76]\n",
      "  [ 77  78  79  80]\n",
      "  [ 81  82  83  84]]\n",
      "\n",
      " [[ 85  86  87  88]\n",
      "  [ 89  90  91  92]\n",
      "  [ 93  94  95  96]\n",
      "  [ 97  98  99 100]\n",
      "  [101 102 103 104]]]\n"
     ]
    }
   ],
   "source": [
    "new_b = b.reshape(5,5,4)\n",
    "print(new_b)"
   ]
  },
  {
   "cell_type": "markdown",
   "metadata": {},
   "source": [
    "<div style = 'background-color: #7f8fa6'>\n",
    "    <br>\n",
    "</div>\n",
    "\n",
    "\n",
    "`arr[a,b,c]`\n"
   ]
  },
  {
   "cell_type": "code",
   "execution_count": 30,
   "metadata": {
    "scrolled": true
   },
   "outputs": [
    {
     "name": "stdout",
     "output_type": "stream",
     "text": [
      "36\n",
      "36\n"
     ]
    }
   ],
   "source": [
    "#推荐这个\n",
    "print(new_b[1,2,3])\n",
    "#其实也可以这样\n",
    "print(new_b[1][2][3])"
   ]
  },
  {
   "cell_type": "markdown",
   "metadata": {},
   "source": [
    "- `a:b`可以表示从index `a`到`b`之前，如果单`:`则表示这个维的所有元素<br>\n",
    "- `-1`则表示倒数第一个， 那么`:-3`表示倒数第三个之前的所有元素\n",
    "```py\n",
    "new_b[ 0 , : , 2 ]\n",
    ">>> array([ 7, 11, 15, 19, 23])\n",
    "```\n",
    "\n",
    "获取第一个*matirx*的**所有** *vector*的第三个*scalar*"
   ]
  },
  {
   "cell_type": "code",
   "execution_count": null,
   "metadata": {},
   "outputs": [],
   "source": []
  }
 ],
 "metadata": {
  "kernelspec": {
   "display_name": "Python 3",
   "language": "python",
   "name": "python3"
  },
  "language_info": {
   "codemirror_mode": {
    "name": "ipython",
    "version": 3
   },
   "file_extension": ".py",
   "mimetype": "text/x-python",
   "name": "python",
   "nbconvert_exporter": "python",
   "pygments_lexer": "ipython3",
   "version": "3.6.8"
  }
 },
 "nbformat": 4,
 "nbformat_minor": 2
}
