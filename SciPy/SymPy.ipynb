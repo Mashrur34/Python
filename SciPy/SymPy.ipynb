{
 "cells": [
  {
   "cell_type": "markdown",
   "metadata": {},
   "source": [
    "# SymPy\n",
    "##### SymPy是一个用来处理数学符号的Python库  \n",
    "可以用来求导，微积分，反正都是我**做不来的东西**"
   ]
  },
  {
   "cell_type": "markdown",
   "metadata": {},
   "source": [
    "<div style = 'background-color:#dfe4ea;'><br>\n",
    "    <font size=3 >首先导入numpy（万物基于numpy）和sympy</font>\n",
    "    <br><br>\n",
    "    </div>"
   ]
  },
  {
   "cell_type": "code",
   "execution_count": 1,
   "metadata": {},
   "outputs": [],
   "source": [
    "import numpy as np\n",
    "import sympy as sp"
   ]
  },
  {
   "cell_type": "markdown",
   "metadata": {},
   "source": [
    "### 使用LaTex显示公式"
   ]
  },
  {
   "cell_type": "code",
   "execution_count": 2,
   "metadata": {},
   "outputs": [],
   "source": [
    "from sympy.interactive import printing\n",
    "printing.init_printing(use_latex = True)"
   ]
  },
  {
   "cell_type": "markdown",
   "metadata": {},
   "source": [
    "#### 接着定义\n",
    "## $f$, $x$, $e$, $log$\n",
    "定义后这些字符将不能再像往常一样使用, 因为现在他们输入SymPy中的**Symbol**  \n",
    "```py\n",
    "type(x)\n",
    ">>> sympy.core.symbol.Symbol\n",
    "```"
   ]
  },
  {
   "cell_type": "code",
   "execution_count": 28,
   "metadata": {},
   "outputs": [],
   "source": [
    "f = sp.Function('func')\n",
    "x = sp.Symbol('x')\n",
    "exp = sp.exp\n",
    "log = sp.log"
   ]
  },
  {
   "cell_type": "code",
   "execution_count": 34,
   "metadata": {},
   "outputs": [],
   "source": [
    "def sigmoid(a):\n",
    "    return 1 / (1 + np.exp(-a))"
   ]
  },
  {
   "cell_type": "markdown",
   "metadata": {},
   "source": [
    "#### 使用display()函数时 以LeTax显示出来  \n",
    "#### 但是使用内置的print则会以String的形式显示"
   ]
  },
  {
   "cell_type": "code",
   "execution_count": 53,
   "metadata": {},
   "outputs": [
    {
     "name": "stdout",
     "output_type": "stream",
     "text": [
      "原型\n"
     ]
    },
    {
     "data": {
      "image/png": "[encoded data removed]",
      "text/latex": [
       "$\\displaystyle \\frac{1}{1 + e^{- x}}$"
      ],
      "text/plain": [
       "   1   \n",
       "───────\n",
       "     -x\n",
       "1 + ℯ  "
      ]
     },
     "metadata": {},
     "output_type": "display_data"
    },
    {
     "name": "stdout",
     "output_type": "stream",
     "text": [
      "求导\n"
     ]
    },
    {
     "data": {
      "image/png": "[encoded data removed]",
      "text/latex": [
       "$\\displaystyle \\frac{e^{- x}}{\\left(1 + e^{- x}\\right)^{2}}$"
      ],
      "text/plain": [
       "    -x    \n",
       "   ℯ      \n",
       "──────────\n",
       "         2\n",
       "⎛     -x⎞ \n",
       "⎝1 + ℯ  ⎠ "
      ]
     },
     "metadata": {},
     "output_type": "display_data"
    },
    {
     "name": "stdout",
     "output_type": "stream",
     "text": [
      "积分\n"
     ]
    },
    {
     "data": {
      "image/png": "[encoded data removed]",
      "text/latex": [
       "$\\displaystyle \\int \\frac{1}{1 + e^{- x}}\\, dx$"
      ],
      "text/plain": [
       "⌠           \n",
       "⎮    1      \n",
       "⎮ ─────── dx\n",
       "⎮      -x   \n",
       "⎮ 1 + ℯ     \n",
       "⌡           "
      ]
     },
     "metadata": {},
     "output_type": "display_data"
    }
   ],
   "source": [
    "f =  1 / (1 + exp(-x))\n",
    "print(\"原型\")\n",
    "display(f)\n",
    "print(\"求导\")\n",
    "display(sp.diff(f,x)\n",
    "print('积分')\n",
    "display(sp.Integral(f,x))"
   ]
  },
  {
   "cell_type": "code",
   "execution_count": null,
   "metadata": {},
   "outputs": [],
   "source": []
  }
 ],
 "metadata": {
  "kernelspec": {
   "display_name": "Python 3",
   "language": "python",
   "name": "python3"
  },
  "language_info": {
   "codemirror_mode": {
    "name": "ipython",
    "version": 3
   },
   "file_extension": ".py",
   "mimetype": "text/x-python",
   "name": "python",
   "nbconvert_exporter": "python",
   "pygments_lexer": "ipython3",
   "version": "3.6.8"
  }
 },
 "nbformat": 4,
 "nbformat_minor": 2
}
